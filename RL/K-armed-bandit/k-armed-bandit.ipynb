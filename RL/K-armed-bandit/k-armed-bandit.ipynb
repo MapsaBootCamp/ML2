{
 "cells": [
  {
   "cell_type": "code",
   "execution_count": 1,
   "id": "4d53588e",
   "metadata": {},
   "outputs": [],
   "source": [
    "import numpy as np\n",
    "\n",
    "\n",
    "class KBanditEpsilonGreedy:\n",
    "    \n",
    "    def __init__(self, k, epsilon, iteration):\n",
    "        self.k = k\n",
    "        self.epsilon = epsilon\n",
    "        self.iteration = iteration\n",
    "        \n",
    "        self.mean_reward = 0\n",
    "        \n",
    "        self.mean_action_reward = np.zeros(k)\n",
    "        self.number_action_selection = np.zeros(k)\n",
    "        \n",
    "        self.qa = np.random.normal(0, 1, k)\n",
    "        self.round = 0\n",
    "        self.iteration_reward = np.zeros(iteration)\n",
    "\n",
    "        \n",
    "    def select_action(self):\n",
    "        selection_index = np.random.rand()\n",
    "        \n",
    "        if self.round == 0:\n",
    "            action = np.random.choice(self.k)\n",
    "            \n",
    "        elif self.epsilon > selection_index:   # exploration\n",
    "            action = np.random.choice(self.k)\n",
    "        \n",
    "        else:   # exploit\n",
    "            action = np.argmax(self.mean_action_reward)\n",
    "    \n",
    "        reward = np.random.normal(self.qa[action], 1)\n",
    "        self.round += 1\n",
    "        self.mean_reward= self.mean_reward + (reward - self.mean_reward)/self.round\n",
    "        self.number_action_selection[action] += 1\n",
    "        self.mean_action_reward[action] = self.mean_action_reward[action] + (reward - self.mean_action_reward[action])/self.number_action_selection[action]\n",
    "    \n",
    "    def run_iteration(self):\n",
    "        for i in range(self.iteration):\n",
    "            self.select_action()\n",
    "            self.iteration_reward[i] = self.mean_reward\n"
   ]
  },
  {
   "cell_type": "code",
   "execution_count": 6,
   "id": "b84bd8b6",
   "metadata": {},
   "outputs": [],
   "source": [
    "# test\n",
    "\n",
    "k = 5\n",
    "iteration = 500\n",
    "\n",
    "\n",
    "episodes = 500\n",
    "\n",
    "epsilon_0_rewards = np.zeros(iteration)\n",
    "epsilon_0_3_rewards = np.zeros(iteration)\n",
    "epsilon_0_1_rewards = np.zeros(iteration)\n",
    "\n",
    "\n",
    "for i in range(episodes):\n",
    "    epsilon_0 = KBanditEpsilonGreedy(k, 0, iteration)\n",
    "    epsilon_0_3 = KBanditEpsilonGreedy(k, 0.5, iteration)\n",
    "    epsilon_0_1 = KBanditEpsilonGreedy(k, 0.1, iteration)\n",
    "    \n",
    "    epsilon_0.run_iteration()\n",
    "    epsilon_0_1.run_iteration()\n",
    "    epsilon_0_3.run_iteration()\n",
    "\n",
    "    \n",
    "    epsilon_0_rewards = epsilon_0_rewards + (epsilon_0.iteration_reward - epsilon_0_rewards) / (i+1)\n",
    "    epsilon_0_1_rewards = epsilon_0_1_rewards + (epsilon_0_1.iteration_reward - epsilon_0_1_rewards) / (i+1)\n",
    "    epsilon_0_3_rewards = epsilon_0_3_rewards + (epsilon_0_3.iteration_reward - epsilon_0_3_rewards) / (i+1) "
   ]
  },
  {
   "cell_type": "code",
   "execution_count": 7,
   "id": "5483a0fa",
   "metadata": {},
   "outputs": [],
   "source": [
    "import matplotlib.pyplot as plt"
   ]
  },
  {
   "cell_type": "code",
   "execution_count": 8,
   "id": "4e959328",
   "metadata": {},
   "outputs": [
    {
     "data": {
      "text/plain": [
       "<matplotlib.legend.Legend at 0x7f4f184bc4c0>"
      ]
     },
     "execution_count": 8,
     "metadata": {},
     "output_type": "execute_result"
    },
    {
     "data": {
      "image/png": "[encoded data removed]",
      "text/plain": [
       "<Figure size 432x288 with 1 Axes>"
      ]
     },
     "metadata": {
      "needs_background": "light"
     },
     "output_type": "display_data"
    }
   ],
   "source": [
    "plt.figure()\n",
    "plt.plot(epsilon_0_rewards, label =\"epsilon zero\")\n",
    "plt.plot(epsilon_0_1_rewards, label =\"epsilon 0.1\")\n",
    "plt.plot(epsilon_0_3_rewards, label =\"epsilon 0.5\")\n",
    "plt.legend()"
   ]
  },
  {
   "cell_type": "code",
   "execution_count": null,
   "id": "17cbfa0d",
   "metadata": {},
   "outputs": [],
   "source": []
  }
 ],
 "metadata": {
  "kernelspec": {
   "display_name": "Python 3 (ipykernel)",
   "language": "python",
   "name": "python3"
  },
  "language_info": {
   "codemirror_mode": {
    "name": "ipython",
    "version": 3
   },
   "file_extension": ".py",
   "mimetype": "text/x-python",
   "name": "python",
   "nbconvert_exporter": "python",
   "pygments_lexer": "ipython3",
   "version": "3.8.10"
  }
 },
 "nbformat": 4,
 "nbformat_minor": 5
}
