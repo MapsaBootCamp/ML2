{
 "cells": [
  {
   "cell_type": "code",
   "execution_count": 20,
   "metadata": {},
   "outputs": [],
   "source": [
    "from sklearn.datasets import load_iris\n",
    "from sklearn.decomposition import PCA\n",
    "from sklearn.model_selection import train_test_split\n",
    "from sklearn.preprocessing import StandardScaler\n",
    "from sklearn.neighbors import KNeighborsClassifier\n",
    "from sklearn.metrics import classification_report\n",
    "from scipy import io\n",
    "from sklearn.svm import SVC, LinearSVC\n",
    "from sklearn.ensemble import RandomForestClassifier"
   ]
  },
  {
   "cell_type": "code",
   "execution_count": 12,
   "metadata": {},
   "outputs": [],
   "source": [
    "data = load_iris()\n",
    "# mat = io.loadmat(\"COIL20.mat\")\n",
    "# X = mat[\"X\"]\n",
    "# y = mat[\"Y\"]\n",
    "# y = y[:, 0]"
   ]
  },
  {
   "cell_type": "code",
   "execution_count": 13,
   "metadata": {},
   "outputs": [],
   "source": [
    "X_train, X_test, y_train, y_test = train_test_split(data.data, data.target)"
   ]
  },
  {
   "cell_type": "code",
   "execution_count": 14,
   "metadata": {},
   "outputs": [],
   "source": [
    "# scale data before pca\n",
    "scaler = StandardScaler()\n",
    "X_train = scaler.fit_transform(X_train)\n",
    "X_test = scaler.fit_transform(X_test)"
   ]
  },
  {
   "cell_type": "code",
   "execution_count": 19,
   "metadata": {},
   "outputs": [
    {
     "name": "stdout",
     "output_type": "stream",
     "text": [
      "              precision    recall  f1-score   support\n",
      "\n",
      "           0       0.92      1.00      0.96        12\n",
      "           1       0.90      0.64      0.75        14\n",
      "           2       0.73      0.92      0.81        12\n",
      "\n",
      "    accuracy                           0.84        38\n",
      "   macro avg       0.85      0.85      0.84        38\n",
      "weighted avg       0.85      0.84      0.84        38\n",
      "\n"
     ]
    }
   ],
   "source": [
    "from sklearn.pipeline import make_pipeline\n",
    "\n",
    "pipline_ = make_pipeline(PCA(n_components=2), RandomForestClassifier())\n",
    "pipline_.fit(X_train, y_train)\n",
    "print(classification_report(pipline_.predict(X_test), y_test))\n",
    "# data_pca = PCA(n_components=4)\n",
    "# pca_components: PCA = data_pca.fit(X_train)\n",
    "# X_train = pca_components.fit_transform(X_train)\n",
    "# print(pca_components.components_)\n",
    "# print(pca_components.explained_variance_ratio_)\n",
    "# iris_features_after_pca_transform = pca_components.fit_transform(X_train)\n",
    "# X_test = pca_components.transform(X_test)"
   ]
  },
  {
   "cell_type": "code",
   "execution_count": 24,
   "metadata": {},
   "outputs": [
    {
     "data": {
      "text/plain": [
       "0.6574672384362215"
      ]
     },
     "execution_count": 24,
     "metadata": {},
     "output_type": "execute_result"
    }
   ],
   "source": [
    "sum(pca_components.explained_variance_ratio_[:50])"
   ]
  },
  {
   "cell_type": "code",
   "execution_count": 25,
   "metadata": {},
   "outputs": [
    {
     "data": {
      "text/plain": [
       "SVC(kernel='linear')"
      ]
     },
     "execution_count": 25,
     "metadata": {},
     "output_type": "execute_result"
    }
   ],
   "source": [
    "svc_clf = SVC(kernel=\"linear\")\n",
    "svc_clf.fit(X_train, y_train)"
   ]
  },
  {
   "cell_type": "code",
   "execution_count": 26,
   "metadata": {},
   "outputs": [],
   "source": [
    "y_predict = svc_clf.predict(X_test)"
   ]
  },
  {
   "cell_type": "code",
   "execution_count": 27,
   "metadata": {},
   "outputs": [
    {
     "name": "stdout",
     "output_type": "stream",
     "text": [
      "              precision    recall  f1-score   support\n",
      "\n",
      "           1       1.00      1.00      1.00        23\n",
      "           2       1.00      1.00      1.00        17\n",
      "           3       0.94      0.83      0.88        18\n",
      "           4       1.00      1.00      1.00        21\n",
      "           5       0.76      0.93      0.84        14\n",
      "           6       1.00      1.00      1.00        18\n",
      "           7       1.00      1.00      1.00        19\n",
      "           8       1.00      1.00      1.00        21\n",
      "           9       1.00      0.94      0.97        18\n",
      "          10       1.00      1.00      1.00        15\n",
      "          11       1.00      1.00      1.00        18\n",
      "          12       1.00      1.00      1.00        21\n",
      "          13       1.00      1.00      1.00        21\n",
      "          14       1.00      1.00      1.00        12\n",
      "          15       1.00      1.00      1.00        16\n",
      "          16       1.00      1.00      1.00        12\n",
      "          17       1.00      1.00      1.00        21\n",
      "          18       1.00      1.00      1.00        17\n",
      "          19       0.91      0.91      0.91        22\n",
      "          20       1.00      1.00      1.00        16\n",
      "\n",
      "    accuracy                           0.98       360\n",
      "   macro avg       0.98      0.98      0.98       360\n",
      "weighted avg       0.98      0.98      0.98       360\n",
      "\n"
     ]
    }
   ],
   "source": [
    "print(classification_report(y_test, y_predict))"
   ]
  },
  {
   "cell_type": "code",
   "execution_count": 28,
   "metadata": {},
   "outputs": [],
   "source": [
    "import numpy as np"
   ]
  },
  {
   "cell_type": "code",
   "execution_count": 29,
   "metadata": {},
   "outputs": [
    {
     "data": {
      "text/plain": [
       "(array([2., 2.]),\n",
       " array([[1., 0.],\n",
       "        [0., 1.]]))"
      ]
     },
     "execution_count": 29,
     "metadata": {},
     "output_type": "execute_result"
    }
   ],
   "source": [
    "np.linalg.eig(np.array([[2,0], [0,2]]))"
   ]
  },
  {
   "cell_type": "code",
   "execution_count": 31,
   "metadata": {},
   "outputs": [
    {
     "data": {
      "text/plain": [
       "array([0.5, 0.5])"
      ]
     },
     "execution_count": 31,
     "metadata": {},
     "output_type": "execute_result"
    }
   ],
   "source": [
    "X = np.array([[1,0], [0,1], [0, -1], [-1, 0]])\n",
    "pca_mojtaba = PCA(n_components=2)\n",
    "X_pca = pca_mojtaba.fit(X)\n",
    "X_pca.explained_variance_ratio_"
   ]
  },
  {
   "cell_type": "code",
   "execution_count": null,
   "metadata": {},
   "outputs": [],
   "source": []
  }
 ],
 "metadata": {
  "interpreter": {
   "hash": "257298eb60e59e6a21af5731dd34356371b91ad0d656114d88e97c4ec475b1e1"
  },
  "kernelspec": {
   "display_name": "Python 3 (ipykernel)",
   "language": "python",
   "name": "python3"
  },
  "language_info": {
   "codemirror_mode": {
    "name": "ipython",
    "version": 3
   },
   "file_extension": ".py",
   "mimetype": "text/x-python",
   "name": "python",
   "nbconvert_exporter": "python",
   "pygments_lexer": "ipython3",
   "version": "3.8.10"
  }
 },
 "nbformat": 4,
 "nbformat_minor": 2
}
