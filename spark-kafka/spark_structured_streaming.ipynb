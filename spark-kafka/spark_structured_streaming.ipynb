{
 "cells": [
  {
   "cell_type": "code",
   "execution_count": 1,
   "id": "de5b36c4-95e5-4b0c-91ec-2a610de8eabf",
   "metadata": {},
   "outputs": [],
   "source": [
    "from pyspark.sql import SparkSession\n",
    "from pyspark.sql.functions import *\n",
    "from pyspark.sql.types import *\n",
    "\n",
    "scala_version = '2.12'\n",
    "spark_version = '3.3.0'\n",
    "# TODO: Ensure match above values match the correct versions\n",
    "packages = [\n",
    "    f'org.apache.spark:spark-sql-kafka-0-10_{scala_version}:{spark_version}',\n",
    "    'org.apache.kafka:kafka-clients:3.2.1'\n",
    "]\n",
    "\n",
    "spark = SparkSession \\\n",
    "    .builder \\\n",
    "    .appName(\"StructuredNetworkProductCount\") \\\n",
    "    .config(\"spark.jars.packages\", \",\".join(packages)) \\\n",
    "    .getOrCreate()"
   ]
  },
  {
   "cell_type": "code",
   "execution_count": 2,
   "id": "173108ab-b5fd-4ed4-99cd-cd00a8d9630a",
   "metadata": {},
   "outputs": [],
   "source": [
    "rawData = spark.readStream.format(\"socket\").option(\"host\", \"localhost\") \\\n",
    ".option(\"port\", \"9999\") \\\n",
    ".option(\"includeTimestamp\", True) \\\n",
    ".load()"
   ]
  },
  {
   "cell_type": "code",
   "execution_count": 3,
   "id": "4f344206-07f7-4c6a-8442-c7d7f2b2b6f9",
   "metadata": {},
   "outputs": [],
   "source": [
    "# query = rawData.select((rawData.value).alias(\"product\")\n",
    "#                 , (rawData.timestamp).alias(\"time\")) \\\n",
    "#         .groupBy(window(\"time\", \"1 minutes\"), \"product\").count()\n",
    "\n",
    "query = rawData.select((rawData.value).alias(\"product\"),(rawData.timestamp).alias(\"time\")).groupBy(\"product\").count()"
   ]
  },
  {
   "cell_type": "code",
   "execution_count": 12,
   "id": "cc4deff3-2bf3-4bb9-bd08-bb10c14ea5d9",
   "metadata": {},
   "outputs": [],
   "source": [
    "checkpointDir = \"/tmp/spark-kafka/\"\n",
    "\n",
    "result = query.selectExpr(\"cast(product as string) as value\").writeStream \\\n",
    ".outputMode(\"complete\").format(\"kafka\") \\\n",
    ".option(\"kafka.bootstrap.servers\", \"localhost:9092\").option(\"topic\", \"productCounts\")\\\n",
    ".option(\"checkpointLocation\", checkpointDir) \\\n",
    ".start()\n",
    "\n",
    "# query.awaitTermination()"
   ]
  },
  {
   "cell_type": "code",
   "execution_count": 13,
   "id": "e6ae01c3-fe0a-4d96-a671-90649210c1f5",
   "metadata": {},
   "outputs": [
    {
     "data": {
      "text/plain": [
       "{'message': 'Processing new data',\n",
       " 'isDataAvailable': True,\n",
       " 'isTriggerActive': True}"
      ]
     },
     "execution_count": 13,
     "metadata": {},
     "output_type": "execute_result"
    }
   ],
   "source": [
    "result.status"
   ]
  },
  {
   "cell_type": "code",
   "execution_count": 70,
   "id": "c7a950a0-2d73-4653-ad4d-9ddf3801fceb",
   "metadata": {},
   "outputs": [],
   "source": [
    "result.stop()"
   ]
  }
 ],
 "metadata": {
  "kernelspec": {
   "display_name": "Python 3 (ipykernel)",
   "language": "python",
   "name": "python3"
  },
  "language_info": {
   "codemirror_mode": {
    "name": "ipython",
    "version": 3
   },
   "file_extension": ".py",
   "mimetype": "text/x-python",
   "name": "python",
   "nbconvert_exporter": "python",
   "pygments_lexer": "ipython3",
   "version": "3.10.6"
  }
 },
 "nbformat": 4,
 "nbformat_minor": 5
}
