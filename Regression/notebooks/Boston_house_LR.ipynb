{
 "cells": [
  {
   "cell_type": "markdown",
   "metadata": {},
   "source": [
    "# Boston House dataset Analysis\n",
    "\n",
    "## 1- Import Modules"
   ]
  },
  {
   "cell_type": "code",
   "execution_count": 1,
   "metadata": {},
   "outputs": [],
   "source": [
    "import pandas as pd\n",
    "import seaborn as sns\n",
    "import numpy as np\n",
    "import matplotlib.pyplot as plt"
   ]
  },
  {
   "cell_type": "markdown",
   "metadata": {},
   "source": [
    "## 2- read data"
   ]
  },
  {
   "cell_type": "code",
   "execution_count": null,
   "metadata": {
    "scrolled": true
   },
   "outputs": [],
   "source": [
    "from sklearn.datasets import load_boston\n",
    "boston_dataset = load_boston()\n",
    "print(boston_dataset.DESCR)\n",
    "# boston_dataset.keys()\n",
    "# boston_dataset[\"feature_names\"]"
   ]
  },
  {
   "cell_type": "code",
   "execution_count": 3,
   "metadata": {},
   "outputs": [
    {
     "data": {
      "text/plain": [
       "sklearn.utils.Bunch"
      ]
     },
     "execution_count": 3,
     "metadata": {},
     "output_type": "execute_result"
    }
   ],
   "source": [
    "type(boston_dataset)"
   ]
  },
  {
   "cell_type": "code",
   "execution_count": 4,
   "metadata": {},
   "outputs": [
    {
     "data": {
      "text/plain": [
       "'boston_house_prices.csv'"
      ]
     },
     "execution_count": 4,
     "metadata": {},
     "output_type": "execute_result"
    }
   ],
   "source": [
    "boston_dataset.filename"
   ]
  },
  {
   "cell_type": "code",
   "execution_count": 5,
   "metadata": {},
   "outputs": [
    {
     "data": {
      "text/plain": [
       "(506,)"
      ]
     },
     "execution_count": 5,
     "metadata": {},
     "output_type": "execute_result"
    }
   ],
   "source": [
    "# boston_dataset.data\n",
    "boston_dataset.keys()\n",
    "boston_dataset.feature_names\n",
    "boston_dataset.target.shape\n",
    "# boston_dataset['target']"
   ]
  },
  {
   "cell_type": "code",
   "execution_count": 6,
   "metadata": {},
   "outputs": [
    {
     "data": {
      "text/html": [
       "<div>\n",
       "<style scoped>\n",
       "    .dataframe tbody tr th:only-of-type {\n",
       "        vertical-align: middle;\n",
       "    }\n",
       "\n",
       "    .dataframe tbody tr th {\n",
       "        vertical-align: top;\n",
       "    }\n",
       "\n",
       "    .dataframe thead th {\n",
       "        text-align: right;\n",
       "    }\n",
       "</style>\n",
       "<table border=\"1\" class=\"dataframe\">\n",
       "  <thead>\n",
       "    <tr style=\"text-align: right;\">\n",
       "      <th></th>\n",
       "      <th>CRIM</th>\n",
       "      <th>ZN</th>\n",
       "      <th>INDUS</th>\n",
       "      <th>CHAS</th>\n",
       "      <th>NOX</th>\n",
       "      <th>RM</th>\n",
       "      <th>AGE</th>\n",
       "      <th>DIS</th>\n",
       "      <th>RAD</th>\n",
       "      <th>TAX</th>\n",
       "      <th>PTRATIO</th>\n",
       "      <th>B</th>\n",
       "      <th>LSTAT</th>\n",
       "      <th>MEDV</th>\n",
       "    </tr>\n",
       "  </thead>\n",
       "  <tbody>\n",
       "    <tr>\n",
       "      <th>count</th>\n",
       "      <td>506.000000</td>\n",
       "      <td>506.000000</td>\n",
       "      <td>506.000000</td>\n",
       "      <td>506.000000</td>\n",
       "      <td>506.000000</td>\n",
       "      <td>506.000000</td>\n",
       "      <td>506.000000</td>\n",
       "      <td>506.000000</td>\n",
       "      <td>506.000000</td>\n",
       "      <td>506.000000</td>\n",
       "      <td>506.000000</td>\n",
       "      <td>506.000000</td>\n",
       "      <td>506.000000</td>\n",
       "      <td>506.000000</td>\n",
       "    </tr>\n",
       "    <tr>\n",
       "      <th>mean</th>\n",
       "      <td>3.613524</td>\n",
       "      <td>11.363636</td>\n",
       "      <td>11.136779</td>\n",
       "      <td>0.069170</td>\n",
       "      <td>0.554695</td>\n",
       "      <td>6.284634</td>\n",
       "      <td>68.574901</td>\n",
       "      <td>3.795043</td>\n",
       "      <td>9.549407</td>\n",
       "      <td>408.237154</td>\n",
       "      <td>18.455534</td>\n",
       "      <td>356.674032</td>\n",
       "      <td>12.653063</td>\n",
       "      <td>22.532806</td>\n",
       "    </tr>\n",
       "    <tr>\n",
       "      <th>std</th>\n",
       "      <td>8.601545</td>\n",
       "      <td>23.322453</td>\n",
       "      <td>6.860353</td>\n",
       "      <td>0.253994</td>\n",
       "      <td>0.115878</td>\n",
       "      <td>0.702617</td>\n",
       "      <td>28.148861</td>\n",
       "      <td>2.105710</td>\n",
       "      <td>8.707259</td>\n",
       "      <td>168.537116</td>\n",
       "      <td>2.164946</td>\n",
       "      <td>91.294864</td>\n",
       "      <td>7.141062</td>\n",
       "      <td>9.197104</td>\n",
       "    </tr>\n",
       "    <tr>\n",
       "      <th>min</th>\n",
       "      <td>0.006320</td>\n",
       "      <td>0.000000</td>\n",
       "      <td>0.460000</td>\n",
       "      <td>0.000000</td>\n",
       "      <td>0.385000</td>\n",
       "      <td>3.561000</td>\n",
       "      <td>2.900000</td>\n",
       "      <td>1.129600</td>\n",
       "      <td>1.000000</td>\n",
       "      <td>187.000000</td>\n",
       "      <td>12.600000</td>\n",
       "      <td>0.320000</td>\n",
       "      <td>1.730000</td>\n",
       "      <td>5.000000</td>\n",
       "    </tr>\n",
       "    <tr>\n",
       "      <th>25%</th>\n",
       "      <td>0.082045</td>\n",
       "      <td>0.000000</td>\n",
       "      <td>5.190000</td>\n",
       "      <td>0.000000</td>\n",
       "      <td>0.449000</td>\n",
       "      <td>5.885500</td>\n",
       "      <td>45.025000</td>\n",
       "      <td>2.100175</td>\n",
       "      <td>4.000000</td>\n",
       "      <td>279.000000</td>\n",
       "      <td>17.400000</td>\n",
       "      <td>375.377500</td>\n",
       "      <td>6.950000</td>\n",
       "      <td>17.025000</td>\n",
       "    </tr>\n",
       "    <tr>\n",
       "      <th>50%</th>\n",
       "      <td>0.256510</td>\n",
       "      <td>0.000000</td>\n",
       "      <td>9.690000</td>\n",
       "      <td>0.000000</td>\n",
       "      <td>0.538000</td>\n",
       "      <td>6.208500</td>\n",
       "      <td>77.500000</td>\n",
       "      <td>3.207450</td>\n",
       "      <td>5.000000</td>\n",
       "      <td>330.000000</td>\n",
       "      <td>19.050000</td>\n",
       "      <td>391.440000</td>\n",
       "      <td>11.360000</td>\n",
       "      <td>21.200000</td>\n",
       "    </tr>\n",
       "    <tr>\n",
       "      <th>75%</th>\n",
       "      <td>3.677083</td>\n",
       "      <td>12.500000</td>\n",
       "      <td>18.100000</td>\n",
       "      <td>0.000000</td>\n",
       "      <td>0.624000</td>\n",
       "      <td>6.623500</td>\n",
       "      <td>94.075000</td>\n",
       "      <td>5.188425</td>\n",
       "      <td>24.000000</td>\n",
       "      <td>666.000000</td>\n",
       "      <td>20.200000</td>\n",
       "      <td>396.225000</td>\n",
       "      <td>16.955000</td>\n",
       "      <td>25.000000</td>\n",
       "    </tr>\n",
       "    <tr>\n",
       "      <th>max</th>\n",
       "      <td>88.976200</td>\n",
       "      <td>100.000000</td>\n",
       "      <td>27.740000</td>\n",
       "      <td>1.000000</td>\n",
       "      <td>0.871000</td>\n",
       "      <td>8.780000</td>\n",
       "      <td>100.000000</td>\n",
       "      <td>12.126500</td>\n",
       "      <td>24.000000</td>\n",
       "      <td>711.000000</td>\n",
       "      <td>22.000000</td>\n",
       "      <td>396.900000</td>\n",
       "      <td>37.970000</td>\n",
       "      <td>50.000000</td>\n",
       "    </tr>\n",
       "  </tbody>\n",
       "</table>\n",
       "</div>"
      ],
      "text/plain": [
       "             CRIM          ZN       INDUS        CHAS         NOX          RM  \\\n",
       "count  506.000000  506.000000  506.000000  506.000000  506.000000  506.000000   \n",
       "mean     3.613524   11.363636   11.136779    0.069170    0.554695    6.284634   \n",
       "std      8.601545   23.322453    6.860353    0.253994    0.115878    0.702617   \n",
       "min      0.006320    0.000000    0.460000    0.000000    0.385000    3.561000   \n",
       "25%      0.082045    0.000000    5.190000    0.000000    0.449000    5.885500   \n",
       "50%      0.256510    0.000000    9.690000    0.000000    0.538000    6.208500   \n",
       "75%      3.677083   12.500000   18.100000    0.000000    0.624000    6.623500   \n",
       "max     88.976200  100.000000   27.740000    1.000000    0.871000    8.780000   \n",
       "\n",
       "              AGE         DIS         RAD         TAX     PTRATIO           B  \\\n",
       "count  506.000000  506.000000  506.000000  506.000000  506.000000  506.000000   \n",
       "mean    68.574901    3.795043    9.549407  408.237154   18.455534  356.674032   \n",
       "std     28.148861    2.105710    8.707259  168.537116    2.164946   91.294864   \n",
       "min      2.900000    1.129600    1.000000  187.000000   12.600000    0.320000   \n",
       "25%     45.025000    2.100175    4.000000  279.000000   17.400000  375.377500   \n",
       "50%     77.500000    3.207450    5.000000  330.000000   19.050000  391.440000   \n",
       "75%     94.075000    5.188425   24.000000  666.000000   20.200000  396.225000   \n",
       "max    100.000000   12.126500   24.000000  711.000000   22.000000  396.900000   \n",
       "\n",
       "            LSTAT        MEDV  \n",
       "count  506.000000  506.000000  \n",
       "mean    12.653063   22.532806  \n",
       "std      7.141062    9.197104  \n",
       "min      1.730000    5.000000  \n",
       "25%      6.950000   17.025000  \n",
       "50%     11.360000   21.200000  \n",
       "75%     16.955000   25.000000  \n",
       "max     37.970000   50.000000  "
      ]
     },
     "execution_count": 6,
     "metadata": {},
     "output_type": "execute_result"
    }
   ],
   "source": [
    "boston_df = pd.DataFrame(data= boston_dataset.data , columns=boston_dataset.feature_names)\n",
    "boston_df[\"MEDV\"] = boston_dataset.target\n",
    "boston_df.describe()"
   ]
  },
  {
   "cell_type": "code",
   "execution_count": 7,
   "metadata": {},
   "outputs": [
    {
     "data": {
      "text/html": [
       "<div>\n",
       "<style scoped>\n",
       "    .dataframe tbody tr th:only-of-type {\n",
       "        vertical-align: middle;\n",
       "    }\n",
       "\n",
       "    .dataframe tbody tr th {\n",
       "        vertical-align: top;\n",
       "    }\n",
       "\n",
       "    .dataframe thead th {\n",
       "        text-align: right;\n",
       "    }\n",
       "</style>\n",
       "<table border=\"1\" class=\"dataframe\">\n",
       "  <thead>\n",
       "    <tr style=\"text-align: right;\">\n",
       "      <th></th>\n",
       "      <th>CRIM</th>\n",
       "      <th>ZN</th>\n",
       "      <th>INDUS</th>\n",
       "      <th>CHAS</th>\n",
       "      <th>NOX</th>\n",
       "      <th>RM</th>\n",
       "      <th>AGE</th>\n",
       "      <th>DIS</th>\n",
       "      <th>RAD</th>\n",
       "      <th>TAX</th>\n",
       "      <th>PTRATIO</th>\n",
       "      <th>B</th>\n",
       "      <th>LSTAT</th>\n",
       "      <th>MEDV</th>\n",
       "    </tr>\n",
       "  </thead>\n",
       "  <tbody>\n",
       "    <tr>\n",
       "      <th>0</th>\n",
       "      <td>0.00632</td>\n",
       "      <td>18.0</td>\n",
       "      <td>2.31</td>\n",
       "      <td>0.0</td>\n",
       "      <td>0.538</td>\n",
       "      <td>6.575</td>\n",
       "      <td>65.2</td>\n",
       "      <td>4.0900</td>\n",
       "      <td>1.0</td>\n",
       "      <td>296.0</td>\n",
       "      <td>15.3</td>\n",
       "      <td>396.90</td>\n",
       "      <td>4.98</td>\n",
       "      <td>24.0</td>\n",
       "    </tr>\n",
       "    <tr>\n",
       "      <th>1</th>\n",
       "      <td>0.02731</td>\n",
       "      <td>0.0</td>\n",
       "      <td>7.07</td>\n",
       "      <td>0.0</td>\n",
       "      <td>0.469</td>\n",
       "      <td>6.421</td>\n",
       "      <td>78.9</td>\n",
       "      <td>4.9671</td>\n",
       "      <td>2.0</td>\n",
       "      <td>242.0</td>\n",
       "      <td>17.8</td>\n",
       "      <td>396.90</td>\n",
       "      <td>9.14</td>\n",
       "      <td>21.6</td>\n",
       "    </tr>\n",
       "    <tr>\n",
       "      <th>2</th>\n",
       "      <td>0.02729</td>\n",
       "      <td>0.0</td>\n",
       "      <td>7.07</td>\n",
       "      <td>0.0</td>\n",
       "      <td>0.469</td>\n",
       "      <td>7.185</td>\n",
       "      <td>61.1</td>\n",
       "      <td>4.9671</td>\n",
       "      <td>2.0</td>\n",
       "      <td>242.0</td>\n",
       "      <td>17.8</td>\n",
       "      <td>392.83</td>\n",
       "      <td>4.03</td>\n",
       "      <td>34.7</td>\n",
       "    </tr>\n",
       "    <tr>\n",
       "      <th>3</th>\n",
       "      <td>0.03237</td>\n",
       "      <td>0.0</td>\n",
       "      <td>2.18</td>\n",
       "      <td>0.0</td>\n",
       "      <td>0.458</td>\n",
       "      <td>6.998</td>\n",
       "      <td>45.8</td>\n",
       "      <td>6.0622</td>\n",
       "      <td>3.0</td>\n",
       "      <td>222.0</td>\n",
       "      <td>18.7</td>\n",
       "      <td>394.63</td>\n",
       "      <td>2.94</td>\n",
       "      <td>33.4</td>\n",
       "    </tr>\n",
       "    <tr>\n",
       "      <th>4</th>\n",
       "      <td>0.06905</td>\n",
       "      <td>0.0</td>\n",
       "      <td>2.18</td>\n",
       "      <td>0.0</td>\n",
       "      <td>0.458</td>\n",
       "      <td>7.147</td>\n",
       "      <td>54.2</td>\n",
       "      <td>6.0622</td>\n",
       "      <td>3.0</td>\n",
       "      <td>222.0</td>\n",
       "      <td>18.7</td>\n",
       "      <td>396.90</td>\n",
       "      <td>5.33</td>\n",
       "      <td>36.2</td>\n",
       "    </tr>\n",
       "  </tbody>\n",
       "</table>\n",
       "</div>"
      ],
      "text/plain": [
       "      CRIM    ZN  INDUS  CHAS    NOX     RM   AGE     DIS  RAD    TAX  \\\n",
       "0  0.00632  18.0   2.31   0.0  0.538  6.575  65.2  4.0900  1.0  296.0   \n",
       "1  0.02731   0.0   7.07   0.0  0.469  6.421  78.9  4.9671  2.0  242.0   \n",
       "2  0.02729   0.0   7.07   0.0  0.469  7.185  61.1  4.9671  2.0  242.0   \n",
       "3  0.03237   0.0   2.18   0.0  0.458  6.998  45.8  6.0622  3.0  222.0   \n",
       "4  0.06905   0.0   2.18   0.0  0.458  7.147  54.2  6.0622  3.0  222.0   \n",
       "\n",
       "   PTRATIO       B  LSTAT  MEDV  \n",
       "0     15.3  396.90   4.98  24.0  \n",
       "1     17.8  396.90   9.14  21.6  \n",
       "2     17.8  392.83   4.03  34.7  \n",
       "3     18.7  394.63   2.94  33.4  \n",
       "4     18.7  396.90   5.33  36.2  "
      ]
     },
     "execution_count": 7,
     "metadata": {},
     "output_type": "execute_result"
    }
   ],
   "source": [
    "boston_df.head()"
   ]
  },
  {
   "cell_type": "code",
   "execution_count": 8,
   "metadata": {},
   "outputs": [
    {
     "data": {
      "text/plain": [
       "CRIM       0\n",
       "ZN         0\n",
       "INDUS      0\n",
       "CHAS       0\n",
       "NOX        0\n",
       "RM         0\n",
       "AGE        0\n",
       "DIS        0\n",
       "RAD        0\n",
       "TAX        0\n",
       "PTRATIO    0\n",
       "B          0\n",
       "LSTAT      0\n",
       "MEDV       0\n",
       "dtype: int64"
      ]
     },
     "execution_count": 8,
     "metadata": {},
     "output_type": "execute_result"
    }
   ],
   "source": [
    "boston_df.isnull().sum()"
   ]
  },
  {
   "cell_type": "code",
   "execution_count": 9,
   "metadata": {},
   "outputs": [
    {
     "data": {
      "text/plain": [
       "CRIM       504\n",
       "ZN          26\n",
       "INDUS       76\n",
       "CHAS         2\n",
       "NOX         81\n",
       "RM         446\n",
       "AGE        356\n",
       "DIS        412\n",
       "RAD          9\n",
       "TAX         66\n",
       "PTRATIO     46\n",
       "B          357\n",
       "LSTAT      455\n",
       "MEDV       229\n",
       "dtype: int64"
      ]
     },
     "execution_count": 9,
     "metadata": {},
     "output_type": "execute_result"
    }
   ],
   "source": [
    "boston_df.nunique()"
   ]
  },
  {
   "cell_type": "markdown",
   "metadata": {},
   "source": [
    "### distribution"
   ]
  },
  {
   "cell_type": "code",
   "execution_count": null,
   "metadata": {},
   "outputs": [],
   "source": [
    "sns.histplot(boston_df[\"MEDV\"], kde=True)"
   ]
  },
  {
   "cell_type": "markdown",
   "metadata": {},
   "source": [
    "### target(continues) vs feature(countinues) ----> scatter"
   ]
  },
  {
   "cell_type": "code",
   "execution_count": 11,
   "metadata": {},
   "outputs": [],
   "source": [
    "def scatter_plot(data_frame, feature, target):\n",
    "        plt.figure()\n",
    "        plt.scatter(x=data_frame[feature], y=data_frame[target])\n",
    "        plt.xlabel(feature)\n",
    "        plt.ylabel(target)\n",
    "        plt.show()\n",
    "        print(f\"{feature} mean: \", data_frame[feature].mean())\n",
    "        print(f\"{feature} std mean: \", data_frame[feature].std())\n",
    "        print(f\"{feature} median: \", data_frame[feature].median())                "
   ]
  },
  {
   "cell_type": "code",
   "execution_count": 12,
   "metadata": {},
   "outputs": [
    {
     "data": {
      "image/png": "[encoded data removed]",
      "text/plain": [
       "<Figure size 432x288 with 1 Axes>"
      ]
     },
     "metadata": {
      "needs_background": "light"
     },
     "output_type": "display_data"
    },
    {
     "name": "stdout",
     "output_type": "stream",
     "text": [
      "CRIM mean:  3.613523557312254\n",
      "CRIM std mean:  8.60154510533249\n",
      "CRIM median:  0.25651\n"
     ]
    },
    {
     "data": {
      "image/png": "[encoded data removed]",
      "text/plain": [
       "<Figure size 432x288 with 1 Axes>"
      ]
     },
     "metadata": {
      "needs_background": "light"
     },
     "output_type": "display_data"
    },
    {
     "name": "stdout",
     "output_type": "stream",
     "text": [
      "ZN mean:  11.363636363636363\n",
      "ZN std mean:  23.32245299451514\n",
      "ZN median:  0.0\n"
     ]
    },
    {
     "data": {
      "image/png": "[encoded data removed]",
      "text/plain": [
       "<Figure size 432x288 with 1 Axes>"
      ]
     },
     "metadata": {
      "needs_background": "light"
     },
     "output_type": "display_data"
    },
    {
     "name": "stdout",
     "output_type": "stream",
     "text": [
      "INDUS mean:  11.13677865612648\n",
      "INDUS std mean:  6.860352940897585\n",
      "INDUS median:  9.69\n"
     ]
    },
    {
     "data": {
      "image/png": "[encoded data removed]",
      "text/plain": [
       "<Figure size 432x288 with 1 Axes>"
      ]
     },
     "metadata": {
      "needs_background": "light"
     },
     "output_type": "display_data"
    },
    {
     "name": "stdout",
     "output_type": "stream",
     "text": [
      "NOX mean:  0.5546950592885376\n",
      "NOX std mean:  0.11587767566755595\n",
      "NOX median:  0.538\n"
     ]
    },
    {
     "data": {
      "image/png": "[encoded data removed]",
      "text/plain": [
       "<Figure size 432x288 with 1 Axes>"
      ]
     },
     "metadata": {
      "needs_background": "light"
     },
     "output_type": "display_data"
    },
    {
     "name": "stdout",
     "output_type": "stream",
     "text": [
      "RM mean:  6.284634387351779\n",
      "RM std mean:  0.7026171434153233\n",
      "RM median:  6.2085\n"
     ]
    },
    {
     "data": {
      "image/png": "[encoded data removed]",
      "text/plain": [
       "<Figure size 432x288 with 1 Axes>"
      ]
     },
     "metadata": {
      "needs_background": "light"
     },
     "output_type": "display_data"
    },
    {
     "name": "stdout",
     "output_type": "stream",
     "text": [
      "AGE mean:  68.57490118577076\n",
      "AGE std mean:  28.148861406903617\n",
      "AGE median:  77.5\n"
     ]
    },
    {
     "data": {
      "image/png": "[encoded data removed]",
      "text/plain": [
       "<Figure size 432x288 with 1 Axes>"
      ]
     },
     "metadata": {
      "needs_background": "light"
     },
     "output_type": "display_data"
    },
    {
     "name": "stdout",
     "output_type": "stream",
     "text": [
      "DIS mean:  3.795042687747036\n",
      "DIS std mean:  2.105710126627611\n",
      "DIS median:  3.2074499999999997\n"
     ]
    },
    {
     "data": {
      "image/png": "[encoded data removed]",
      "text/plain": [
       "<Figure size 432x288 with 1 Axes>"
      ]
     },
     "metadata": {
      "needs_background": "light"
     },
     "output_type": "display_data"
    },
    {
     "name": "stdout",
     "output_type": "stream",
     "text": [
      "TAX mean:  408.2371541501976\n",
      "TAX std mean:  168.53711605495903\n",
      "TAX median:  330.0\n"
     ]
    },
    {
     "data": {
      "image/png": "[encoded data removed]",
      "text/plain": [
       "<Figure size 432x288 with 1 Axes>"
      ]
     },
     "metadata": {
      "needs_background": "light"
     },
     "output_type": "display_data"
    },
    {
     "name": "stdout",
     "output_type": "stream",
     "text": [
      "PTRATIO mean:  18.455533596837945\n",
      "PTRATIO std mean:  2.1649455237144406\n",
      "PTRATIO median:  19.05\n"
     ]
    },
    {
     "data": {
      "image/png": "[encoded data removed]",
      "text/plain": [
       "<Figure size 432x288 with 1 Axes>"
      ]
     },
     "metadata": {
      "needs_background": "light"
     },
     "output_type": "display_data"
    },
    {
     "name": "stdout",
     "output_type": "stream",
     "text": [
      "B mean:  356.6740316205534\n",
      "B std mean:  91.29486438415783\n",
      "B median:  391.44\n"
     ]
    },
    {
     "data": {
      "image/png": "[encoded data removed]",
      "text/plain": [
       "<Figure size 432x288 with 1 Axes>"
      ]
     },
     "metadata": {
      "needs_background": "light"
     },
     "output_type": "display_data"
    },
    {
     "name": "stdout",
     "output_type": "stream",
     "text": [
      "LSTAT mean:  12.653063241106722\n",
      "LSTAT std mean:  7.141061511348571\n",
      "LSTAT median:  11.36\n"
     ]
    }
   ],
   "source": [
    "feature_ = boston_dataset.feature_names\n",
    "for elm in feature_:\n",
    "    if elm != \"CHAS\" and elm != \"RAD\":\n",
    "        scatter_plot(boston_df, elm, \"MEDV\")"
   ]
  },
  {
   "cell_type": "code",
   "execution_count": 13,
   "metadata": {},
   "outputs": [
    {
     "data": {
      "text/html": [
       "<div>\n",
       "<style scoped>\n",
       "    .dataframe tbody tr th:only-of-type {\n",
       "        vertical-align: middle;\n",
       "    }\n",
       "\n",
       "    .dataframe tbody tr th {\n",
       "        vertical-align: top;\n",
       "    }\n",
       "\n",
       "    .dataframe thead th {\n",
       "        text-align: right;\n",
       "    }\n",
       "</style>\n",
       "<table border=\"1\" class=\"dataframe\">\n",
       "  <thead>\n",
       "    <tr style=\"text-align: right;\">\n",
       "      <th></th>\n",
       "      <th>CRIM</th>\n",
       "      <th>ZN</th>\n",
       "      <th>INDUS</th>\n",
       "      <th>CHAS</th>\n",
       "      <th>NOX</th>\n",
       "      <th>RM</th>\n",
       "      <th>AGE</th>\n",
       "      <th>DIS</th>\n",
       "      <th>RAD</th>\n",
       "      <th>TAX</th>\n",
       "      <th>PTRATIO</th>\n",
       "      <th>B</th>\n",
       "      <th>LSTAT</th>\n",
       "      <th>MEDV</th>\n",
       "    </tr>\n",
       "  </thead>\n",
       "  <tbody>\n",
       "    <tr>\n",
       "      <th>CRIM</th>\n",
       "      <td>1.000000</td>\n",
       "      <td>-0.200469</td>\n",
       "      <td>0.406583</td>\n",
       "      <td>-0.055892</td>\n",
       "      <td>0.420972</td>\n",
       "      <td>-0.219247</td>\n",
       "      <td>0.352734</td>\n",
       "      <td>-0.379670</td>\n",
       "      <td>0.625505</td>\n",
       "      <td>0.582764</td>\n",
       "      <td>0.289946</td>\n",
       "      <td>-0.385064</td>\n",
       "      <td>0.455621</td>\n",
       "      <td>-0.388305</td>\n",
       "    </tr>\n",
       "    <tr>\n",
       "      <th>ZN</th>\n",
       "      <td>-0.200469</td>\n",
       "      <td>1.000000</td>\n",
       "      <td>-0.533828</td>\n",
       "      <td>-0.042697</td>\n",
       "      <td>-0.516604</td>\n",
       "      <td>0.311991</td>\n",
       "      <td>-0.569537</td>\n",
       "      <td>0.664408</td>\n",
       "      <td>-0.311948</td>\n",
       "      <td>-0.314563</td>\n",
       "      <td>-0.391679</td>\n",
       "      <td>0.175520</td>\n",
       "      <td>-0.412995</td>\n",
       "      <td>0.360445</td>\n",
       "    </tr>\n",
       "    <tr>\n",
       "      <th>INDUS</th>\n",
       "      <td>0.406583</td>\n",
       "      <td>-0.533828</td>\n",
       "      <td>1.000000</td>\n",
       "      <td>0.062938</td>\n",
       "      <td>0.763651</td>\n",
       "      <td>-0.391676</td>\n",
       "      <td>0.644779</td>\n",
       "      <td>-0.708027</td>\n",
       "      <td>0.595129</td>\n",
       "      <td>0.720760</td>\n",
       "      <td>0.383248</td>\n",
       "      <td>-0.356977</td>\n",
       "      <td>0.603800</td>\n",
       "      <td>-0.483725</td>\n",
       "    </tr>\n",
       "    <tr>\n",
       "      <th>CHAS</th>\n",
       "      <td>-0.055892</td>\n",
       "      <td>-0.042697</td>\n",
       "      <td>0.062938</td>\n",
       "      <td>1.000000</td>\n",
       "      <td>0.091203</td>\n",
       "      <td>0.091251</td>\n",
       "      <td>0.086518</td>\n",
       "      <td>-0.099176</td>\n",
       "      <td>-0.007368</td>\n",
       "      <td>-0.035587</td>\n",
       "      <td>-0.121515</td>\n",
       "      <td>0.048788</td>\n",
       "      <td>-0.053929</td>\n",
       "      <td>0.175260</td>\n",
       "    </tr>\n",
       "    <tr>\n",
       "      <th>NOX</th>\n",
       "      <td>0.420972</td>\n",
       "      <td>-0.516604</td>\n",
       "      <td>0.763651</td>\n",
       "      <td>0.091203</td>\n",
       "      <td>1.000000</td>\n",
       "      <td>-0.302188</td>\n",
       "      <td>0.731470</td>\n",
       "      <td>-0.769230</td>\n",
       "      <td>0.611441</td>\n",
       "      <td>0.668023</td>\n",
       "      <td>0.188933</td>\n",
       "      <td>-0.380051</td>\n",
       "      <td>0.590879</td>\n",
       "      <td>-0.427321</td>\n",
       "    </tr>\n",
       "    <tr>\n",
       "      <th>RM</th>\n",
       "      <td>-0.219247</td>\n",
       "      <td>0.311991</td>\n",
       "      <td>-0.391676</td>\n",
       "      <td>0.091251</td>\n",
       "      <td>-0.302188</td>\n",
       "      <td>1.000000</td>\n",
       "      <td>-0.240265</td>\n",
       "      <td>0.205246</td>\n",
       "      <td>-0.209847</td>\n",
       "      <td>-0.292048</td>\n",
       "      <td>-0.355501</td>\n",
       "      <td>0.128069</td>\n",
       "      <td>-0.613808</td>\n",
       "      <td>0.695360</td>\n",
       "    </tr>\n",
       "    <tr>\n",
       "      <th>AGE</th>\n",
       "      <td>0.352734</td>\n",
       "      <td>-0.569537</td>\n",
       "      <td>0.644779</td>\n",
       "      <td>0.086518</td>\n",
       "      <td>0.731470</td>\n",
       "      <td>-0.240265</td>\n",
       "      <td>1.000000</td>\n",
       "      <td>-0.747881</td>\n",
       "      <td>0.456022</td>\n",
       "      <td>0.506456</td>\n",
       "      <td>0.261515</td>\n",
       "      <td>-0.273534</td>\n",
       "      <td>0.602339</td>\n",
       "      <td>-0.376955</td>\n",
       "    </tr>\n",
       "    <tr>\n",
       "      <th>DIS</th>\n",
       "      <td>-0.379670</td>\n",
       "      <td>0.664408</td>\n",
       "      <td>-0.708027</td>\n",
       "      <td>-0.099176</td>\n",
       "      <td>-0.769230</td>\n",
       "      <td>0.205246</td>\n",
       "      <td>-0.747881</td>\n",
       "      <td>1.000000</td>\n",
       "      <td>-0.494588</td>\n",
       "      <td>-0.534432</td>\n",
       "      <td>-0.232471</td>\n",
       "      <td>0.291512</td>\n",
       "      <td>-0.496996</td>\n",
       "      <td>0.249929</td>\n",
       "    </tr>\n",
       "    <tr>\n",
       "      <th>RAD</th>\n",
       "      <td>0.625505</td>\n",
       "      <td>-0.311948</td>\n",
       "      <td>0.595129</td>\n",
       "      <td>-0.007368</td>\n",
       "      <td>0.611441</td>\n",
       "      <td>-0.209847</td>\n",
       "      <td>0.456022</td>\n",
       "      <td>-0.494588</td>\n",
       "      <td>1.000000</td>\n",
       "      <td>0.910228</td>\n",
       "      <td>0.464741</td>\n",
       "      <td>-0.444413</td>\n",
       "      <td>0.488676</td>\n",
       "      <td>-0.381626</td>\n",
       "    </tr>\n",
       "    <tr>\n",
       "      <th>TAX</th>\n",
       "      <td>0.582764</td>\n",
       "      <td>-0.314563</td>\n",
       "      <td>0.720760</td>\n",
       "      <td>-0.035587</td>\n",
       "      <td>0.668023</td>\n",
       "      <td>-0.292048</td>\n",
       "      <td>0.506456</td>\n",
       "      <td>-0.534432</td>\n",
       "      <td>0.910228</td>\n",
       "      <td>1.000000</td>\n",
       "      <td>0.460853</td>\n",
       "      <td>-0.441808</td>\n",
       "      <td>0.543993</td>\n",
       "      <td>-0.468536</td>\n",
       "    </tr>\n",
       "    <tr>\n",
       "      <th>PTRATIO</th>\n",
       "      <td>0.289946</td>\n",
       "      <td>-0.391679</td>\n",
       "      <td>0.383248</td>\n",
       "      <td>-0.121515</td>\n",
       "      <td>0.188933</td>\n",
       "      <td>-0.355501</td>\n",
       "      <td>0.261515</td>\n",
       "      <td>-0.232471</td>\n",
       "      <td>0.464741</td>\n",
       "      <td>0.460853</td>\n",
       "      <td>1.000000</td>\n",
       "      <td>-0.177383</td>\n",
       "      <td>0.374044</td>\n",
       "      <td>-0.507787</td>\n",
       "    </tr>\n",
       "    <tr>\n",
       "      <th>B</th>\n",
       "      <td>-0.385064</td>\n",
       "      <td>0.175520</td>\n",
       "      <td>-0.356977</td>\n",
       "      <td>0.048788</td>\n",
       "      <td>-0.380051</td>\n",
       "      <td>0.128069</td>\n",
       "      <td>-0.273534</td>\n",
       "      <td>0.291512</td>\n",
       "      <td>-0.444413</td>\n",
       "      <td>-0.441808</td>\n",
       "      <td>-0.177383</td>\n",
       "      <td>1.000000</td>\n",
       "      <td>-0.366087</td>\n",
       "      <td>0.333461</td>\n",
       "    </tr>\n",
       "    <tr>\n",
       "      <th>LSTAT</th>\n",
       "      <td>0.455621</td>\n",
       "      <td>-0.412995</td>\n",
       "      <td>0.603800</td>\n",
       "      <td>-0.053929</td>\n",
       "      <td>0.590879</td>\n",
       "      <td>-0.613808</td>\n",
       "      <td>0.602339</td>\n",
       "      <td>-0.496996</td>\n",
       "      <td>0.488676</td>\n",
       "      <td>0.543993</td>\n",
       "      <td>0.374044</td>\n",
       "      <td>-0.366087</td>\n",
       "      <td>1.000000</td>\n",
       "      <td>-0.737663</td>\n",
       "    </tr>\n",
       "    <tr>\n",
       "      <th>MEDV</th>\n",
       "      <td>-0.388305</td>\n",
       "      <td>0.360445</td>\n",
       "      <td>-0.483725</td>\n",
       "      <td>0.175260</td>\n",
       "      <td>-0.427321</td>\n",
       "      <td>0.695360</td>\n",
       "      <td>-0.376955</td>\n",
       "      <td>0.249929</td>\n",
       "      <td>-0.381626</td>\n",
       "      <td>-0.468536</td>\n",
       "      <td>-0.507787</td>\n",
       "      <td>0.333461</td>\n",
       "      <td>-0.737663</td>\n",
       "      <td>1.000000</td>\n",
       "    </tr>\n",
       "  </tbody>\n",
       "</table>\n",
       "</div>"
      ],
      "text/plain": [
       "             CRIM        ZN     INDUS      CHAS       NOX        RM       AGE  \\\n",
       "CRIM     1.000000 -0.200469  0.406583 -0.055892  0.420972 -0.219247  0.352734   \n",
       "ZN      -0.200469  1.000000 -0.533828 -0.042697 -0.516604  0.311991 -0.569537   \n",
       "INDUS    0.406583 -0.533828  1.000000  0.062938  0.763651 -0.391676  0.644779   \n",
       "CHAS    -0.055892 -0.042697  0.062938  1.000000  0.091203  0.091251  0.086518   \n",
       "NOX      0.420972 -0.516604  0.763651  0.091203  1.000000 -0.302188  0.731470   \n",
       "RM      -0.219247  0.311991 -0.391676  0.091251 -0.302188  1.000000 -0.240265   \n",
       "AGE      0.352734 -0.569537  0.644779  0.086518  0.731470 -0.240265  1.000000   \n",
       "DIS     -0.379670  0.664408 -0.708027 -0.099176 -0.769230  0.205246 -0.747881   \n",
       "RAD      0.625505 -0.311948  0.595129 -0.007368  0.611441 -0.209847  0.456022   \n",
       "TAX      0.582764 -0.314563  0.720760 -0.035587  0.668023 -0.292048  0.506456   \n",
       "PTRATIO  0.289946 -0.391679  0.383248 -0.121515  0.188933 -0.355501  0.261515   \n",
       "B       -0.385064  0.175520 -0.356977  0.048788 -0.380051  0.128069 -0.273534   \n",
       "LSTAT    0.455621 -0.412995  0.603800 -0.053929  0.590879 -0.613808  0.602339   \n",
       "MEDV    -0.388305  0.360445 -0.483725  0.175260 -0.427321  0.695360 -0.376955   \n",
       "\n",
       "              DIS       RAD       TAX   PTRATIO         B     LSTAT      MEDV  \n",
       "CRIM    -0.379670  0.625505  0.582764  0.289946 -0.385064  0.455621 -0.388305  \n",
       "ZN       0.664408 -0.311948 -0.314563 -0.391679  0.175520 -0.412995  0.360445  \n",
       "INDUS   -0.708027  0.595129  0.720760  0.383248 -0.356977  0.603800 -0.483725  \n",
       "CHAS    -0.099176 -0.007368 -0.035587 -0.121515  0.048788 -0.053929  0.175260  \n",
       "NOX     -0.769230  0.611441  0.668023  0.188933 -0.380051  0.590879 -0.427321  \n",
       "RM       0.205246 -0.209847 -0.292048 -0.355501  0.128069 -0.613808  0.695360  \n",
       "AGE     -0.747881  0.456022  0.506456  0.261515 -0.273534  0.602339 -0.376955  \n",
       "DIS      1.000000 -0.494588 -0.534432 -0.232471  0.291512 -0.496996  0.249929  \n",
       "RAD     -0.494588  1.000000  0.910228  0.464741 -0.444413  0.488676 -0.381626  \n",
       "TAX     -0.534432  0.910228  1.000000  0.460853 -0.441808  0.543993 -0.468536  \n",
       "PTRATIO -0.232471  0.464741  0.460853  1.000000 -0.177383  0.374044 -0.507787  \n",
       "B        0.291512 -0.444413 -0.441808 -0.177383  1.000000 -0.366087  0.333461  \n",
       "LSTAT   -0.496996  0.488676  0.543993  0.374044 -0.366087  1.000000 -0.737663  \n",
       "MEDV     0.249929 -0.381626 -0.468536 -0.507787  0.333461 -0.737663  1.000000  "
      ]
     },
     "execution_count": 13,
     "metadata": {},
     "output_type": "execute_result"
    }
   ],
   "source": [
    "boston_df.corr()"
   ]
  },
  {
   "cell_type": "markdown",
   "metadata": {},
   "source": [
    "### Categorical feature ---> boxplot"
   ]
  },
  {
   "cell_type": "code",
   "execution_count": 14,
   "metadata": {},
   "outputs": [
    {
     "data": {
      "text/plain": [
       "<AxesSubplot:xlabel='CHAS', ylabel='MEDV'>"
      ]
     },
     "execution_count": 14,
     "metadata": {},
     "output_type": "execute_result"
    },
    {
     "data": {
      "image/png": "[encoded data removed]",
      "text/plain": [
       "<Figure size 432x288 with 1 Axes>"
      ]
     },
     "metadata": {
      "needs_background": "light"
     },
     "output_type": "display_data"
    }
   ],
   "source": [
    "sns.boxplot(x=boston_df[\"CHAS\"], y=boston_df[\"MEDV\"])"
   ]
  },
  {
   "cell_type": "code",
   "execution_count": 15,
   "metadata": {
    "scrolled": true
   },
   "outputs": [
    {
     "data": {
      "text/plain": [
       "<AxesSubplot:xlabel='RAD', ylabel='MEDV'>"
      ]
     },
     "execution_count": 15,
     "metadata": {},
     "output_type": "execute_result"
    },
    {
     "data": {
      "image/png": "[encoded data removed]",
      "text/plain": [
       "<Figure size 432x288 with 1 Axes>"
      ]
     },
     "metadata": {
      "needs_background": "light"
     },
     "output_type": "display_data"
    }
   ],
   "source": [
    "sns.boxplot(x=boston_df[\"RAD\"], y=boston_df[\"MEDV\"])"
   ]
  },
  {
   "cell_type": "markdown",
   "metadata": {},
   "source": [
    "## scaling features to a range"
   ]
  },
  {
   "cell_type": "code",
   "execution_count": 7,
   "metadata": {},
   "outputs": [
    {
     "data": {
      "text/plain": [
       "(506, 13)"
      ]
     },
     "execution_count": 7,
     "metadata": {},
     "output_type": "execute_result"
    }
   ],
   "source": [
    "X = boston_df.iloc[:, :-1].values\n",
    "y = boston_df.iloc[:,-1].values\n",
    "X.shape"
   ]
  },
  {
   "cell_type": "code",
   "execution_count": 8,
   "metadata": {},
   "outputs": [
    {
     "data": {
      "text/plain": [
       "(303, 13)"
      ]
     },
     "execution_count": 8,
     "metadata": {},
     "output_type": "execute_result"
    }
   ],
   "source": [
    "from sklearn.model_selection import train_test_split\n",
    "X_train, X_test, y_train, y_test = train_test_split(X, y , test_size=0.4 , random_state=85)\n",
    "X_train.shape"
   ]
  },
  {
   "cell_type": "code",
   "execution_count": 9,
   "metadata": {},
   "outputs": [
    {
     "data": {
      "text/html": [
       "<div>\n",
       "<style scoped>\n",
       "    .dataframe tbody tr th:only-of-type {\n",
       "        vertical-align: middle;\n",
       "    }\n",
       "\n",
       "    .dataframe tbody tr th {\n",
       "        vertical-align: top;\n",
       "    }\n",
       "\n",
       "    .dataframe thead th {\n",
       "        text-align: right;\n",
       "    }\n",
       "</style>\n",
       "<table border=\"1\" class=\"dataframe\">\n",
       "  <thead>\n",
       "    <tr style=\"text-align: right;\">\n",
       "      <th></th>\n",
       "      <th>CRIM</th>\n",
       "      <th>ZN</th>\n",
       "      <th>INDUS</th>\n",
       "      <th>CHAS</th>\n",
       "      <th>NOX</th>\n",
       "      <th>RM</th>\n",
       "      <th>AGE</th>\n",
       "      <th>DIS</th>\n",
       "      <th>RAD</th>\n",
       "      <th>TAX</th>\n",
       "      <th>PTRATIO</th>\n",
       "      <th>B</th>\n",
       "      <th>LSTAT</th>\n",
       "    </tr>\n",
       "  </thead>\n",
       "  <tbody>\n",
       "    <tr>\n",
       "      <th>0</th>\n",
       "      <td>-0.400593</td>\n",
       "      <td>-0.462379</td>\n",
       "      <td>-0.414600</td>\n",
       "      <td>-0.258653</td>\n",
       "      <td>-0.338283</td>\n",
       "      <td>-0.129576</td>\n",
       "      <td>0.734592</td>\n",
       "      <td>-0.624897</td>\n",
       "      <td>-0.541090</td>\n",
       "      <td>-0.163845</td>\n",
       "      <td>1.134760</td>\n",
       "      <td>0.401484</td>\n",
       "      <td>-0.047393</td>\n",
       "    </tr>\n",
       "    <tr>\n",
       "      <th>1</th>\n",
       "      <td>-0.414435</td>\n",
       "      <td>1.115842</td>\n",
       "      <td>-1.433239</td>\n",
       "      <td>-0.258653</td>\n",
       "      <td>-0.998882</td>\n",
       "      <td>1.394621</td>\n",
       "      <td>-0.740585</td>\n",
       "      <td>1.706031</td>\n",
       "      <td>-0.993679</td>\n",
       "      <td>-0.751708</td>\n",
       "      <td>-1.368536</td>\n",
       "      <td>0.423784</td>\n",
       "      <td>-1.027652</td>\n",
       "    </tr>\n",
       "    <tr>\n",
       "      <th>2</th>\n",
       "      <td>0.512708</td>\n",
       "      <td>-0.462379</td>\n",
       "      <td>0.965771</td>\n",
       "      <td>-0.258653</td>\n",
       "      <td>0.203748</td>\n",
       "      <td>0.127295</td>\n",
       "      <td>0.593236</td>\n",
       "      <td>-0.810840</td>\n",
       "      <td>1.608707</td>\n",
       "      <td>1.493929</td>\n",
       "      <td>0.810259</td>\n",
       "      <td>-2.962417</td>\n",
       "      <td>0.713599</td>\n",
       "    </tr>\n",
       "    <tr>\n",
       "      <th>3</th>\n",
       "      <td>-0.411163</td>\n",
       "      <td>0.800198</td>\n",
       "      <td>0.523010</td>\n",
       "      <td>-0.258653</td>\n",
       "      <td>-0.812559</td>\n",
       "      <td>-0.013204</td>\n",
       "      <td>0.274279</td>\n",
       "      <td>-0.022084</td>\n",
       "      <td>-0.654238</td>\n",
       "      <td>-0.834009</td>\n",
       "      <td>-0.116888</td>\n",
       "      <td>0.447280</td>\n",
       "      <td>-0.296757</td>\n",
       "    </tr>\n",
       "    <tr>\n",
       "      <th>4</th>\n",
       "      <td>-0.366882</td>\n",
       "      <td>-0.462379</td>\n",
       "      <td>-0.756076</td>\n",
       "      <td>3.866183</td>\n",
       "      <td>-0.448383</td>\n",
       "      <td>0.663744</td>\n",
       "      <td>-0.117169</td>\n",
       "      <td>-0.003454</td>\n",
       "      <td>-0.201649</td>\n",
       "      <td>-0.616499</td>\n",
       "      <td>-0.487747</td>\n",
       "      <td>0.048059</td>\n",
       "      <td>-0.660771</td>\n",
       "    </tr>\n",
       "    <tr>\n",
       "      <th>...</th>\n",
       "      <td>...</td>\n",
       "      <td>...</td>\n",
       "      <td>...</td>\n",
       "      <td>...</td>\n",
       "      <td>...</td>\n",
       "      <td>...</td>\n",
       "      <td>...</td>\n",
       "      <td>...</td>\n",
       "      <td>...</td>\n",
       "      <td>...</td>\n",
       "      <td>...</td>\n",
       "      <td>...</td>\n",
       "      <td>...</td>\n",
       "    </tr>\n",
       "    <tr>\n",
       "      <th>298</th>\n",
       "      <td>-0.411116</td>\n",
       "      <td>0.484553</td>\n",
       "      <td>-0.837104</td>\n",
       "      <td>-0.258653</td>\n",
       "      <td>-1.024290</td>\n",
       "      <td>-0.203373</td>\n",
       "      <td>-0.244026</td>\n",
       "      <td>1.593344</td>\n",
       "      <td>-0.654238</td>\n",
       "      <td>-0.992732</td>\n",
       "      <td>-0.765891</td>\n",
       "      <td>0.415407</td>\n",
       "      <td>-0.463000</td>\n",
       "    </tr>\n",
       "    <tr>\n",
       "      <th>299</th>\n",
       "      <td>-0.411472</td>\n",
       "      <td>3.144984</td>\n",
       "      <td>-1.433239</td>\n",
       "      <td>-0.258653</td>\n",
       "      <td>-1.320713</td>\n",
       "      <td>1.459903</td>\n",
       "      <td>-1.291510</td>\n",
       "      <td>1.842901</td>\n",
       "      <td>-0.880532</td>\n",
       "      <td>-0.487170</td>\n",
       "      <td>-2.712899</td>\n",
       "      <td>0.447280</td>\n",
       "      <td>-1.229723</td>\n",
       "    </tr>\n",
       "    <tr>\n",
       "      <th>300</th>\n",
       "      <td>0.423034</td>\n",
       "      <td>-0.462379</td>\n",
       "      <td>0.965771</td>\n",
       "      <td>-0.258653</td>\n",
       "      <td>1.126893</td>\n",
       "      <td>-0.725631</td>\n",
       "      <td>1.057173</td>\n",
       "      <td>-1.022531</td>\n",
       "      <td>1.608707</td>\n",
       "      <td>1.493929</td>\n",
       "      <td>0.810259</td>\n",
       "      <td>0.405944</td>\n",
       "      <td>1.040352</td>\n",
       "    </tr>\n",
       "    <tr>\n",
       "      <th>301</th>\n",
       "      <td>-0.276612</td>\n",
       "      <td>-0.462379</td>\n",
       "      <td>1.179916</td>\n",
       "      <td>3.866183</td>\n",
       "      <td>0.381601</td>\n",
       "      <td>-0.011784</td>\n",
       "      <td>0.828829</td>\n",
       "      <td>-0.939228</td>\n",
       "      <td>-0.541090</td>\n",
       "      <td>-0.052151</td>\n",
       "      <td>-1.739395</td>\n",
       "      <td>-0.183424</td>\n",
       "      <td>-1.026219</td>\n",
       "    </tr>\n",
       "    <tr>\n",
       "      <th>302</th>\n",
       "      <td>-0.013665</td>\n",
       "      <td>-0.462379</td>\n",
       "      <td>0.965771</td>\n",
       "      <td>-0.258653</td>\n",
       "      <td>1.779023</td>\n",
       "      <td>-1.272014</td>\n",
       "      <td>0.959311</td>\n",
       "      <td>-0.785142</td>\n",
       "      <td>1.608707</td>\n",
       "      <td>1.493929</td>\n",
       "      <td>0.810259</td>\n",
       "      <td>0.272036</td>\n",
       "      <td>-0.354082</td>\n",
       "    </tr>\n",
       "  </tbody>\n",
       "</table>\n",
       "<p>303 rows × 13 columns</p>\n",
       "</div>"
      ],
      "text/plain": [
       "         CRIM        ZN     INDUS      CHAS       NOX        RM       AGE  \\\n",
       "0   -0.400593 -0.462379 -0.414600 -0.258653 -0.338283 -0.129576  0.734592   \n",
       "1   -0.414435  1.115842 -1.433239 -0.258653 -0.998882  1.394621 -0.740585   \n",
       "2    0.512708 -0.462379  0.965771 -0.258653  0.203748  0.127295  0.593236   \n",
       "3   -0.411163  0.800198  0.523010 -0.258653 -0.812559 -0.013204  0.274279   \n",
       "4   -0.366882 -0.462379 -0.756076  3.866183 -0.448383  0.663744 -0.117169   \n",
       "..        ...       ...       ...       ...       ...       ...       ...   \n",
       "298 -0.411116  0.484553 -0.837104 -0.258653 -1.024290 -0.203373 -0.244026   \n",
       "299 -0.411472  3.144984 -1.433239 -0.258653 -1.320713  1.459903 -1.291510   \n",
       "300  0.423034 -0.462379  0.965771 -0.258653  1.126893 -0.725631  1.057173   \n",
       "301 -0.276612 -0.462379  1.179916  3.866183  0.381601 -0.011784  0.828829   \n",
       "302 -0.013665 -0.462379  0.965771 -0.258653  1.779023 -1.272014  0.959311   \n",
       "\n",
       "          DIS       RAD       TAX   PTRATIO         B     LSTAT  \n",
       "0   -0.624897 -0.541090 -0.163845  1.134760  0.401484 -0.047393  \n",
       "1    1.706031 -0.993679 -0.751708 -1.368536  0.423784 -1.027652  \n",
       "2   -0.810840  1.608707  1.493929  0.810259 -2.962417  0.713599  \n",
       "3   -0.022084 -0.654238 -0.834009 -0.116888  0.447280 -0.296757  \n",
       "4   -0.003454 -0.201649 -0.616499 -0.487747  0.048059 -0.660771  \n",
       "..        ...       ...       ...       ...       ...       ...  \n",
       "298  1.593344 -0.654238 -0.992732 -0.765891  0.415407 -0.463000  \n",
       "299  1.842901 -0.880532 -0.487170 -2.712899  0.447280 -1.229723  \n",
       "300 -1.022531  1.608707  1.493929  0.810259  0.405944  1.040352  \n",
       "301 -0.939228 -0.541090 -0.052151 -1.739395 -0.183424 -1.026219  \n",
       "302 -0.785142  1.608707  1.493929  0.810259  0.272036 -0.354082  \n",
       "\n",
       "[303 rows x 13 columns]"
      ]
     },
     "execution_count": 9,
     "metadata": {},
     "output_type": "execute_result"
    }
   ],
   "source": [
    "from sklearn import preprocessing\n",
    "min_max_scaler = preprocessing.MinMaxScaler()\n",
    "standard_scaler = preprocessing.StandardScaler()\n",
    "X_train_scaled = standard_scaler.fit_transform(X_train, y_train)\n",
    "X_test_scaled = standard_scaler.fit_transform(X_test, y_test)\n",
    "X_train_scaled_df = pd.DataFrame(X_train_scaled, columns=boston_dataset.feature_names)\n",
    "X_train_scaled_df"
   ]
  },
  {
   "cell_type": "code",
   "execution_count": 65,
   "metadata": {},
   "outputs": [
    {
     "data": {
      "text/html": [
       "<div>\n",
       "<style scoped>\n",
       "    .dataframe tbody tr th:only-of-type {\n",
       "        vertical-align: middle;\n",
       "    }\n",
       "\n",
       "    .dataframe tbody tr th {\n",
       "        vertical-align: top;\n",
       "    }\n",
       "\n",
       "    .dataframe thead th {\n",
       "        text-align: right;\n",
       "    }\n",
       "</style>\n",
       "<table border=\"1\" class=\"dataframe\">\n",
       "  <thead>\n",
       "    <tr style=\"text-align: right;\">\n",
       "      <th></th>\n",
       "      <th>CRIM</th>\n",
       "      <th>ZN</th>\n",
       "      <th>INDUS</th>\n",
       "      <th>CHAS</th>\n",
       "      <th>NOX</th>\n",
       "      <th>RM</th>\n",
       "      <th>AGE</th>\n",
       "      <th>DIS</th>\n",
       "      <th>RAD</th>\n",
       "      <th>TAX</th>\n",
       "      <th>PTRATIO</th>\n",
       "      <th>B</th>\n",
       "      <th>LSTAT</th>\n",
       "      <th>price</th>\n",
       "    </tr>\n",
       "  </thead>\n",
       "  <tbody>\n",
       "    <tr>\n",
       "      <th>0</th>\n",
       "      <td>-0.400593</td>\n",
       "      <td>-0.462379</td>\n",
       "      <td>-0.414600</td>\n",
       "      <td>-0.258653</td>\n",
       "      <td>-0.338283</td>\n",
       "      <td>-0.129576</td>\n",
       "      <td>0.734592</td>\n",
       "      <td>-0.624897</td>\n",
       "      <td>-0.541090</td>\n",
       "      <td>-0.163845</td>\n",
       "      <td>1.134760</td>\n",
       "      <td>0.401484</td>\n",
       "      <td>-0.047393</td>\n",
       "      <td>20.1</td>\n",
       "    </tr>\n",
       "    <tr>\n",
       "      <th>1</th>\n",
       "      <td>-0.414435</td>\n",
       "      <td>1.115842</td>\n",
       "      <td>-1.433239</td>\n",
       "      <td>-0.258653</td>\n",
       "      <td>-0.998882</td>\n",
       "      <td>1.394621</td>\n",
       "      <td>-0.740585</td>\n",
       "      <td>1.706031</td>\n",
       "      <td>-0.993679</td>\n",
       "      <td>-0.751708</td>\n",
       "      <td>-1.368536</td>\n",
       "      <td>0.423784</td>\n",
       "      <td>-1.027652</td>\n",
       "      <td>32.7</td>\n",
       "    </tr>\n",
       "    <tr>\n",
       "      <th>2</th>\n",
       "      <td>0.512708</td>\n",
       "      <td>-0.462379</td>\n",
       "      <td>0.965771</td>\n",
       "      <td>-0.258653</td>\n",
       "      <td>0.203748</td>\n",
       "      <td>0.127295</td>\n",
       "      <td>0.593236</td>\n",
       "      <td>-0.810840</td>\n",
       "      <td>1.608707</td>\n",
       "      <td>1.493929</td>\n",
       "      <td>0.810259</td>\n",
       "      <td>-2.962417</td>\n",
       "      <td>0.713599</td>\n",
       "      <td>14.5</td>\n",
       "    </tr>\n",
       "    <tr>\n",
       "      <th>3</th>\n",
       "      <td>-0.411163</td>\n",
       "      <td>0.800198</td>\n",
       "      <td>0.523010</td>\n",
       "      <td>-0.258653</td>\n",
       "      <td>-0.812559</td>\n",
       "      <td>-0.013204</td>\n",
       "      <td>0.274279</td>\n",
       "      <td>-0.022084</td>\n",
       "      <td>-0.654238</td>\n",
       "      <td>-0.834009</td>\n",
       "      <td>-0.116888</td>\n",
       "      <td>0.447280</td>\n",
       "      <td>-0.296757</td>\n",
       "      <td>20.6</td>\n",
       "    </tr>\n",
       "    <tr>\n",
       "      <th>4</th>\n",
       "      <td>-0.366882</td>\n",
       "      <td>-0.462379</td>\n",
       "      <td>-0.756076</td>\n",
       "      <td>3.866183</td>\n",
       "      <td>-0.448383</td>\n",
       "      <td>0.663744</td>\n",
       "      <td>-0.117169</td>\n",
       "      <td>-0.003454</td>\n",
       "      <td>-0.201649</td>\n",
       "      <td>-0.616499</td>\n",
       "      <td>-0.487747</td>\n",
       "      <td>0.048059</td>\n",
       "      <td>-0.660771</td>\n",
       "      <td>29.0</td>\n",
       "    </tr>\n",
       "    <tr>\n",
       "      <th>...</th>\n",
       "      <td>...</td>\n",
       "      <td>...</td>\n",
       "      <td>...</td>\n",
       "      <td>...</td>\n",
       "      <td>...</td>\n",
       "      <td>...</td>\n",
       "      <td>...</td>\n",
       "      <td>...</td>\n",
       "      <td>...</td>\n",
       "      <td>...</td>\n",
       "      <td>...</td>\n",
       "      <td>...</td>\n",
       "      <td>...</td>\n",
       "      <td>...</td>\n",
       "    </tr>\n",
       "    <tr>\n",
       "      <th>298</th>\n",
       "      <td>-0.411116</td>\n",
       "      <td>0.484553</td>\n",
       "      <td>-0.837104</td>\n",
       "      <td>-0.258653</td>\n",
       "      <td>-1.024290</td>\n",
       "      <td>-0.203373</td>\n",
       "      <td>-0.244026</td>\n",
       "      <td>1.593344</td>\n",
       "      <td>-0.654238</td>\n",
       "      <td>-0.992732</td>\n",
       "      <td>-0.765891</td>\n",
       "      <td>0.415407</td>\n",
       "      <td>-0.463000</td>\n",
       "      <td>20.5</td>\n",
       "    </tr>\n",
       "    <tr>\n",
       "      <th>299</th>\n",
       "      <td>-0.411472</td>\n",
       "      <td>3.144984</td>\n",
       "      <td>-1.433239</td>\n",
       "      <td>-0.258653</td>\n",
       "      <td>-1.320713</td>\n",
       "      <td>1.459903</td>\n",
       "      <td>-1.291510</td>\n",
       "      <td>1.842901</td>\n",
       "      <td>-0.880532</td>\n",
       "      <td>-0.487170</td>\n",
       "      <td>-2.712899</td>\n",
       "      <td>0.447280</td>\n",
       "      <td>-1.229723</td>\n",
       "      <td>33.3</td>\n",
       "    </tr>\n",
       "    <tr>\n",
       "      <th>300</th>\n",
       "      <td>0.423034</td>\n",
       "      <td>-0.462379</td>\n",
       "      <td>0.965771</td>\n",
       "      <td>-0.258653</td>\n",
       "      <td>1.126893</td>\n",
       "      <td>-0.725631</td>\n",
       "      <td>1.057173</td>\n",
       "      <td>-1.022531</td>\n",
       "      <td>1.608707</td>\n",
       "      <td>1.493929</td>\n",
       "      <td>0.810259</td>\n",
       "      <td>0.405944</td>\n",
       "      <td>1.040352</td>\n",
       "      <td>8.5</td>\n",
       "    </tr>\n",
       "    <tr>\n",
       "      <th>301</th>\n",
       "      <td>-0.276612</td>\n",
       "      <td>-0.462379</td>\n",
       "      <td>1.179916</td>\n",
       "      <td>3.866183</td>\n",
       "      <td>0.381601</td>\n",
       "      <td>-0.011784</td>\n",
       "      <td>0.828829</td>\n",
       "      <td>-0.939228</td>\n",
       "      <td>-0.541090</td>\n",
       "      <td>-0.052151</td>\n",
       "      <td>-1.739395</td>\n",
       "      <td>-0.183424</td>\n",
       "      <td>-1.026219</td>\n",
       "      <td>27.0</td>\n",
       "    </tr>\n",
       "    <tr>\n",
       "      <th>302</th>\n",
       "      <td>-0.013665</td>\n",
       "      <td>-0.462379</td>\n",
       "      <td>0.965771</td>\n",
       "      <td>-0.258653</td>\n",
       "      <td>1.779023</td>\n",
       "      <td>-1.272014</td>\n",
       "      <td>0.959311</td>\n",
       "      <td>-0.785142</td>\n",
       "      <td>1.608707</td>\n",
       "      <td>1.493929</td>\n",
       "      <td>0.810259</td>\n",
       "      <td>0.272036</td>\n",
       "      <td>-0.354082</td>\n",
       "      <td>20.8</td>\n",
       "    </tr>\n",
       "  </tbody>\n",
       "</table>\n",
       "<p>303 rows × 14 columns</p>\n",
       "</div>"
      ],
      "text/plain": [
       "         CRIM        ZN     INDUS      CHAS       NOX        RM       AGE  \\\n",
       "0   -0.400593 -0.462379 -0.414600 -0.258653 -0.338283 -0.129576  0.734592   \n",
       "1   -0.414435  1.115842 -1.433239 -0.258653 -0.998882  1.394621 -0.740585   \n",
       "2    0.512708 -0.462379  0.965771 -0.258653  0.203748  0.127295  0.593236   \n",
       "3   -0.411163  0.800198  0.523010 -0.258653 -0.812559 -0.013204  0.274279   \n",
       "4   -0.366882 -0.462379 -0.756076  3.866183 -0.448383  0.663744 -0.117169   \n",
       "..        ...       ...       ...       ...       ...       ...       ...   \n",
       "298 -0.411116  0.484553 -0.837104 -0.258653 -1.024290 -0.203373 -0.244026   \n",
       "299 -0.411472  3.144984 -1.433239 -0.258653 -1.320713  1.459903 -1.291510   \n",
       "300  0.423034 -0.462379  0.965771 -0.258653  1.126893 -0.725631  1.057173   \n",
       "301 -0.276612 -0.462379  1.179916  3.866183  0.381601 -0.011784  0.828829   \n",
       "302 -0.013665 -0.462379  0.965771 -0.258653  1.779023 -1.272014  0.959311   \n",
       "\n",
       "          DIS       RAD       TAX   PTRATIO         B     LSTAT  price  \n",
       "0   -0.624897 -0.541090 -0.163845  1.134760  0.401484 -0.047393   20.1  \n",
       "1    1.706031 -0.993679 -0.751708 -1.368536  0.423784 -1.027652   32.7  \n",
       "2   -0.810840  1.608707  1.493929  0.810259 -2.962417  0.713599   14.5  \n",
       "3   -0.022084 -0.654238 -0.834009 -0.116888  0.447280 -0.296757   20.6  \n",
       "4   -0.003454 -0.201649 -0.616499 -0.487747  0.048059 -0.660771   29.0  \n",
       "..        ...       ...       ...       ...       ...       ...    ...  \n",
       "298  1.593344 -0.654238 -0.992732 -0.765891  0.415407 -0.463000   20.5  \n",
       "299  1.842901 -0.880532 -0.487170 -2.712899  0.447280 -1.229723   33.3  \n",
       "300 -1.022531  1.608707  1.493929  0.810259  0.405944  1.040352    8.5  \n",
       "301 -0.939228 -0.541090 -0.052151 -1.739395 -0.183424 -1.026219   27.0  \n",
       "302 -0.785142  1.608707  1.493929  0.810259  0.272036 -0.354082   20.8  \n",
       "\n",
       "[303 rows x 14 columns]"
      ]
     },
     "execution_count": 65,
     "metadata": {},
     "output_type": "execute_result"
    }
   ],
   "source": [
    "X_train_scaled_df['price'] = y_train\n",
    "X_train_scaled_df"
   ]
  },
  {
   "cell_type": "code",
   "execution_count": 10,
   "metadata": {},
   "outputs": [
    {
     "data": {
      "text/html": [
       "<div>\n",
       "<style scoped>\n",
       "    .dataframe tbody tr th:only-of-type {\n",
       "        vertical-align: middle;\n",
       "    }\n",
       "\n",
       "    .dataframe tbody tr th {\n",
       "        vertical-align: top;\n",
       "    }\n",
       "\n",
       "    .dataframe thead th {\n",
       "        text-align: right;\n",
       "    }\n",
       "</style>\n",
       "<table border=\"1\" class=\"dataframe\">\n",
       "  <thead>\n",
       "    <tr style=\"text-align: right;\">\n",
       "      <th></th>\n",
       "      <th>CRIM</th>\n",
       "      <th>ZN</th>\n",
       "      <th>INDUS</th>\n",
       "      <th>CHAS</th>\n",
       "      <th>NOX</th>\n",
       "      <th>RM</th>\n",
       "      <th>AGE</th>\n",
       "      <th>DIS</th>\n",
       "      <th>RAD</th>\n",
       "      <th>TAX</th>\n",
       "      <th>PTRATIO</th>\n",
       "      <th>B</th>\n",
       "      <th>LSTAT</th>\n",
       "    </tr>\n",
       "  </thead>\n",
       "  <tbody>\n",
       "    <tr>\n",
       "      <th>count</th>\n",
       "      <td>3.030000e+02</td>\n",
       "      <td>3.030000e+02</td>\n",
       "      <td>3.030000e+02</td>\n",
       "      <td>3.030000e+02</td>\n",
       "      <td>3.030000e+02</td>\n",
       "      <td>3.030000e+02</td>\n",
       "      <td>3.030000e+02</td>\n",
       "      <td>3.030000e+02</td>\n",
       "      <td>3.030000e+02</td>\n",
       "      <td>3.030000e+02</td>\n",
       "      <td>3.030000e+02</td>\n",
       "      <td>3.030000e+02</td>\n",
       "      <td>3.030000e+02</td>\n",
       "    </tr>\n",
       "    <tr>\n",
       "      <th>mean</th>\n",
       "      <td>8.207589e-17</td>\n",
       "      <td>-7.914461e-17</td>\n",
       "      <td>4.498052e-15</td>\n",
       "      <td>7.914461e-17</td>\n",
       "      <td>1.606342e-15</td>\n",
       "      <td>1.648846e-16</td>\n",
       "      <td>5.745313e-16</td>\n",
       "      <td>7.885148e-16</td>\n",
       "      <td>4.250359e-17</td>\n",
       "      <td>-4.690051e-17</td>\n",
       "      <td>2.011153e-14</td>\n",
       "      <td>2.485727e-15</td>\n",
       "      <td>-4.250359e-16</td>\n",
       "    </tr>\n",
       "    <tr>\n",
       "      <th>std</th>\n",
       "      <td>1.001654e+00</td>\n",
       "      <td>1.001654e+00</td>\n",
       "      <td>1.001654e+00</td>\n",
       "      <td>1.001654e+00</td>\n",
       "      <td>1.001654e+00</td>\n",
       "      <td>1.001654e+00</td>\n",
       "      <td>1.001654e+00</td>\n",
       "      <td>1.001654e+00</td>\n",
       "      <td>1.001654e+00</td>\n",
       "      <td>1.001654e+00</td>\n",
       "      <td>1.001654e+00</td>\n",
       "      <td>1.001654e+00</td>\n",
       "      <td>1.001654e+00</td>\n",
       "    </tr>\n",
       "    <tr>\n",
       "      <th>min</th>\n",
       "      <td>-4.151669e-01</td>\n",
       "      <td>-4.623794e-01</td>\n",
       "      <td>-1.586614e+00</td>\n",
       "      <td>-2.586531e-01</td>\n",
       "      <td>-1.481628e+00</td>\n",
       "      <td>-3.827953e+00</td>\n",
       "      <td>-2.309998e+00</td>\n",
       "      <td>-1.276884e+00</td>\n",
       "      <td>-9.936793e-01</td>\n",
       "      <td>-1.321935e+00</td>\n",
       "      <td>-2.712899e+00</td>\n",
       "      <td>-3.866702e+00</td>\n",
       "      <td>-1.566508e+00</td>\n",
       "    </tr>\n",
       "    <tr>\n",
       "      <th>25%</th>\n",
       "      <td>-4.072296e-01</td>\n",
       "      <td>-4.623794e-01</td>\n",
       "      <td>-9.022157e-01</td>\n",
       "      <td>-2.586531e-01</td>\n",
       "      <td>-9.226591e-01</td>\n",
       "      <td>-5.262362e-01</td>\n",
       "      <td>-8.674424e-01</td>\n",
       "      <td>-8.125563e-01</td>\n",
       "      <td>-6.542375e-01</td>\n",
       "      <td>-7.811011e-01</td>\n",
       "      <td>-6.731759e-01</td>\n",
       "      <td>2.058979e-01</td>\n",
       "      <td>-8.019346e-01</td>\n",
       "    </tr>\n",
       "    <tr>\n",
       "      <th>50%</th>\n",
       "      <td>-3.805791e-01</td>\n",
       "      <td>-4.623794e-01</td>\n",
       "      <td>-2.207117e-01</td>\n",
       "      <td>-2.586531e-01</td>\n",
       "      <td>-1.858366e-01</td>\n",
       "      <td>-8.983910e-02</td>\n",
       "      <td>3.648914e-01</td>\n",
       "      <td>-2.556863e-01</td>\n",
       "      <td>-5.410903e-01</td>\n",
       "      <td>-4.401406e-01</td>\n",
       "      <td>3.003283e-01</td>\n",
       "      <td>3.921286e-01</td>\n",
       "      <td>-1.391128e-01</td>\n",
       "    </tr>\n",
       "    <tr>\n",
       "      <th>75%</th>\n",
       "      <td>5.676494e-02</td>\n",
       "      <td>-4.623794e-01</td>\n",
       "      <td>9.657708e-01</td>\n",
       "      <td>-2.586531e-01</td>\n",
       "      <td>6.695550e-01</td>\n",
       "      <td>5.090539e-01</td>\n",
       "      <td>9.049435e-01</td>\n",
       "      <td>6.724136e-01</td>\n",
       "      <td>1.608707e+00</td>\n",
       "      <td>1.493929e+00</td>\n",
       "      <td>8.102590e-01</td>\n",
       "      <td>4.403724e-01</td>\n",
       "      <td>6.240280e-01</td>\n",
       "    </tr>\n",
       "    <tr>\n",
       "      <th>max</th>\n",
       "      <td>9.313186e+00</td>\n",
       "      <td>4.046824e+00</td>\n",
       "      <td>2.360611e+00</td>\n",
       "      <td>3.866183e+00</td>\n",
       "      <td>2.634415e+00</td>\n",
       "      <td>3.036609e+00</td>\n",
       "      <td>1.097043e+00</td>\n",
       "      <td>4.275105e+00</td>\n",
       "      <td>1.608707e+00</td>\n",
       "      <td>1.758467e+00</td>\n",
       "      <td>1.644691e+00</td>\n",
       "      <td>4.472799e-01</td>\n",
       "      <td>3.627148e+00</td>\n",
       "    </tr>\n",
       "  </tbody>\n",
       "</table>\n",
       "</div>"
      ],
      "text/plain": [
       "               CRIM            ZN         INDUS          CHAS           NOX  \\\n",
       "count  3.030000e+02  3.030000e+02  3.030000e+02  3.030000e+02  3.030000e+02   \n",
       "mean   8.207589e-17 -7.914461e-17  4.498052e-15  7.914461e-17  1.606342e-15   \n",
       "std    1.001654e+00  1.001654e+00  1.001654e+00  1.001654e+00  1.001654e+00   \n",
       "min   -4.151669e-01 -4.623794e-01 -1.586614e+00 -2.586531e-01 -1.481628e+00   \n",
       "25%   -4.072296e-01 -4.623794e-01 -9.022157e-01 -2.586531e-01 -9.226591e-01   \n",
       "50%   -3.805791e-01 -4.623794e-01 -2.207117e-01 -2.586531e-01 -1.858366e-01   \n",
       "75%    5.676494e-02 -4.623794e-01  9.657708e-01 -2.586531e-01  6.695550e-01   \n",
       "max    9.313186e+00  4.046824e+00  2.360611e+00  3.866183e+00  2.634415e+00   \n",
       "\n",
       "                 RM           AGE           DIS           RAD           TAX  \\\n",
       "count  3.030000e+02  3.030000e+02  3.030000e+02  3.030000e+02  3.030000e+02   \n",
       "mean   1.648846e-16  5.745313e-16  7.885148e-16  4.250359e-17 -4.690051e-17   \n",
       "std    1.001654e+00  1.001654e+00  1.001654e+00  1.001654e+00  1.001654e+00   \n",
       "min   -3.827953e+00 -2.309998e+00 -1.276884e+00 -9.936793e-01 -1.321935e+00   \n",
       "25%   -5.262362e-01 -8.674424e-01 -8.125563e-01 -6.542375e-01 -7.811011e-01   \n",
       "50%   -8.983910e-02  3.648914e-01 -2.556863e-01 -5.410903e-01 -4.401406e-01   \n",
       "75%    5.090539e-01  9.049435e-01  6.724136e-01  1.608707e+00  1.493929e+00   \n",
       "max    3.036609e+00  1.097043e+00  4.275105e+00  1.608707e+00  1.758467e+00   \n",
       "\n",
       "            PTRATIO             B         LSTAT  \n",
       "count  3.030000e+02  3.030000e+02  3.030000e+02  \n",
       "mean   2.011153e-14  2.485727e-15 -4.250359e-16  \n",
       "std    1.001654e+00  1.001654e+00  1.001654e+00  \n",
       "min   -2.712899e+00 -3.866702e+00 -1.566508e+00  \n",
       "25%   -6.731759e-01  2.058979e-01 -8.019346e-01  \n",
       "50%    3.003283e-01  3.921286e-01 -1.391128e-01  \n",
       "75%    8.102590e-01  4.403724e-01  6.240280e-01  \n",
       "max    1.644691e+00  4.472799e-01  3.627148e+00  "
      ]
     },
     "execution_count": 10,
     "metadata": {},
     "output_type": "execute_result"
    }
   ],
   "source": [
    "X_train_scaled_df.describe()"
   ]
  },
  {
   "cell_type": "code",
   "execution_count": null,
   "metadata": {},
   "outputs": [],
   "source": [
    "new_bosto_df = boston_df[boston_df['CRIM']<10]\n",
    "\n",
    "plt.scatter(y=new_bosto_df['price'], x=new_bosto_df['CRIM'])"
   ]
  },
  {
   "cell_type": "code",
   "execution_count": null,
   "metadata": {},
   "outputs": [],
   "source": [
    "boston_df.describe()"
   ]
  },
  {
   "cell_type": "markdown",
   "metadata": {},
   "source": [
    "## 2- Data Visualization"
   ]
  },
  {
   "cell_type": "code",
   "execution_count": null,
   "metadata": {},
   "outputs": [],
   "source": [
    "sns.pairplot(boston_df)"
   ]
  },
  {
   "cell_type": "code",
   "execution_count": null,
   "metadata": {},
   "outputs": [],
   "source": [
    "sns.distplot(boston_df['price'])"
   ]
  },
  {
   "cell_type": "code",
   "execution_count": null,
   "metadata": {},
   "outputs": [],
   "source": [
    "boston_data_corr = boston_df.corr()"
   ]
  },
  {
   "cell_type": "code",
   "execution_count": null,
   "metadata": {},
   "outputs": [],
   "source": [
    "sns.heatmap(boston_data_corr, cmap='BuGn')"
   ]
  },
  {
   "cell_type": "markdown",
   "metadata": {},
   "source": [
    "## 3- Trainig Section"
   ]
  },
  {
   "cell_type": "code",
   "execution_count": 11,
   "metadata": {},
   "outputs": [
    {
     "name": "stdout",
     "output_type": "stream",
     "text": [
      "Ridge intercept boston:  22.38745874587463\n",
      "Ridge coef boston:  [-0.99544814  1.13542132  0.06148861  0.84264645 -2.41657191  2.53522609\n",
      "  0.51742942 -3.09910629  2.48669277 -1.85070789 -2.00915218  0.81862152\n",
      " -3.93513174]\n"
     ]
    }
   ],
   "source": [
    "from sklearn.linear_model import LinearRegression, Ridge, SGDRegressor\n",
    "rb_model = Ridge(alpha=0.5)\n",
    "rb_model.fit(X_train_scaled, y_train)\n",
    "print(\"Ridge intercept boston: \", rb_model.intercept_)\n",
    "print(\"Ridge coef boston: \", rb_model.coef_)"
   ]
  },
  {
   "cell_type": "code",
   "execution_count": 12,
   "metadata": {},
   "outputs": [
    {
     "name": "stdout",
     "output_type": "stream",
     "text": [
      "Ridge intercept boston:  33.16539391362264\n",
      "Ridge coef boston:  [-1.06784407e-01  5.17478066e-02 -1.82517505e-02  3.32313992e+00\n",
      " -1.35635919e+01  3.68594097e+00  1.11437098e-02 -1.47478458e+00\n",
      "  2.72465700e-01 -1.17986761e-02 -8.49816090e-01  9.40501702e-03\n",
      " -5.70853339e-01]\n"
     ]
    }
   ],
   "source": [
    "rb_model_bs = Ridge(alpha=0.5)\n",
    "rb_model_bs.fit(X_train, y_train)\n",
    "print(\"Ridge intercept boston: \", rb_model_bs.intercept_)\n",
    "print(\"Ridge coef boston: \", rb_model_bs.coef_)"
   ]
  },
  {
   "cell_type": "code",
   "execution_count": 13,
   "metadata": {},
   "outputs": [
    {
     "name": "stdout",
     "output_type": "stream",
     "text": [
      "SGD intercept boston:  [22.28919746]\n",
      "SGD coef boston:  [-1.3953168   1.05147269  0.00857743  0.73111807 -2.14834829  2.97655512\n",
      "  0.47650751 -2.99702972  2.2918041  -2.12518146 -2.34803142  1.19721134\n",
      " -4.32389615]\n"
     ]
    }
   ],
   "source": [
    "sgd_boston = SGDRegressor(max_iter=100000, tol=1e-5, eta0=0.1, random_state=42)\n",
    "sgd_boston.fit(X_train_scaled, y_train)\n",
    "print(\"SGD intercept boston: \", sgd_boston.intercept_)\n",
    "print(\"SGD coef boston: \", sgd_boston.coef_)"
   ]
  },
  {
   "cell_type": "code",
   "execution_count": 16,
   "metadata": {},
   "outputs": [],
   "source": [
    "from sklearn.preprocessing import PolynomialFeatures\n",
    "polyRegressor = PolynomialFeatures(degree=2)\n",
    "X_train_poly = polyRegressor.fit_transform(X_train)\n",
    "X_test_poly = polyRegressor.fit_transform(X_test)\n",
    "poly = LinearRegression()\n",
    "poly.fit(X_train_poly, y_train)\n",
    "prediction_plr = poly.predict(X_test_poly)"
   ]
  },
  {
   "cell_type": "code",
   "execution_count": 17,
   "metadata": {},
   "outputs": [],
   "source": [
    "lm_boston = LinearRegression()"
   ]
  },
  {
   "cell_type": "code",
   "execution_count": 18,
   "metadata": {},
   "outputs": [
    {
     "data": {
      "text/plain": [
       "LinearRegression()"
      ]
     },
     "execution_count": 18,
     "metadata": {},
     "output_type": "execute_result"
    }
   ],
   "source": [
    "lm_boston.fit(X_train_scaled,y_train)"
   ]
  },
  {
   "cell_type": "code",
   "execution_count": 19,
   "metadata": {},
   "outputs": [
    {
     "data": {
      "text/plain": [
       "22.38745874587463"
      ]
     },
     "execution_count": 19,
     "metadata": {},
     "output_type": "execute_result"
    }
   ],
   "source": [
    "lm_boston.intercept_"
   ]
  },
  {
   "cell_type": "code",
   "execution_count": 20,
   "metadata": {},
   "outputs": [
    {
     "data": {
      "text/plain": [
       "array([-1.00166036,  1.14834588,  0.07998309,  0.84032537, -2.44342118,\n",
       "        2.52532331,  0.52797933, -3.1222982 ,  2.54850296, -1.90723066,\n",
       "       -2.01711179,  0.8188792 , -3.95027422])"
      ]
     },
     "execution_count": 20,
     "metadata": {},
     "output_type": "execute_result"
    }
   ],
   "source": [
    "lm_boston.coef_"
   ]
  },
  {
   "cell_type": "code",
   "execution_count": 73,
   "metadata": {},
   "outputs": [],
   "source": [
    "#  TODO dataframe with column name COEFF and index's name features and value of coef per row"
   ]
  },
  {
   "cell_type": "markdown",
   "metadata": {},
   "source": [
    "## 4- Prediction and Evaluation"
   ]
  },
  {
   "cell_type": "code",
   "execution_count": 21,
   "metadata": {},
   "outputs": [],
   "source": [
    "prediction_lm = lm_boston.predict(X_test_scaled)\n",
    "prediction_rb = rb_model.predict(X_test_scaled)\n",
    "prediction_sgd = sgd_boston.predict(X_test_scaled)"
   ]
  },
  {
   "cell_type": "code",
   "execution_count": null,
   "metadata": {},
   "outputs": [],
   "source": [
    "sns.regplot(y_test,prediction_sgd)"
   ]
  },
  {
   "cell_type": "code",
   "execution_count": null,
   "metadata": {},
   "outputs": [],
   "source": [
    "plt.hist(y_test-prediction_lm)"
   ]
  },
  {
   "cell_type": "code",
   "execution_count": null,
   "metadata": {},
   "outputs": [],
   "source": [
    "np.corrcoef(y_test, prediction_lm)"
   ]
  },
  {
   "cell_type": "code",
   "execution_count": null,
   "metadata": {},
   "outputs": [],
   "source": [
    "sns.distplot(y_test-prediction_lm)"
   ]
  },
  {
   "cell_type": "code",
   "execution_count": 22,
   "metadata": {},
   "outputs": [],
   "source": [
    "from sklearn import metrics"
   ]
  },
  {
   "cell_type": "code",
   "execution_count": 23,
   "metadata": {},
   "outputs": [
    {
     "name": "stdout",
     "output_type": "stream",
     "text": [
      "LR MSE: 25.78520176893699\n",
      "Ridge MSE: 25.776683982587237\n",
      "SGD MSE: 28.796161903783922\n"
     ]
    }
   ],
   "source": [
    "MSE_lm = metrics.mean_squared_error(y_test, prediction_lm)\n",
    "MSE_rb = metrics.mean_squared_error(y_test, prediction_rb)\n",
    "MSE_sgd = metrics.mean_squared_error(y_test, prediction_sgd)\n",
    "print(\"LR MSE:\", MSE_lm)\n",
    "print(\"Ridge MSE:\", MSE_rb)\n",
    "print(\"SGD MSE:\", MSE_sgd)"
   ]
  },
  {
   "cell_type": "code",
   "execution_count": 81,
   "metadata": {},
   "outputs": [],
   "source": [
    "import math"
   ]
  },
  {
   "cell_type": "code",
   "execution_count": 82,
   "metadata": {},
   "outputs": [
    {
     "data": {
      "text/plain": [
       "5.077913131290942"
      ]
     },
     "execution_count": 82,
     "metadata": {},
     "output_type": "execute_result"
    }
   ],
   "source": [
    "math.sqrt(MSE_lm)"
   ]
  },
  {
   "cell_type": "code",
   "execution_count": 25,
   "metadata": {},
   "outputs": [],
   "source": [
    "from sklearn.model_selection import cross_val_score as cvs"
   ]
  },
  {
   "cell_type": "code",
   "execution_count": 38,
   "metadata": {},
   "outputs": [
    {
     "name": "stdout",
     "output_type": "stream",
     "text": [
      "cross val mean LR: 0.687147530866118\n",
      "cross val mean Ridge: 0.6840823691913613\n",
      "cross val mean SGD: 0.6801810106728983\n"
     ]
    }
   ],
   "source": [
    "accuracy_lr = cvs(LinearRegression(), X_train, y_train, scoring='r2', cv=10)\n",
    "accuracy_rb = cvs(Ridge(), X_train, y_train, scoring='r2', cv=10)\n",
    "accuracy_sgd = cvs(SGDRegressor(), X_train_scaled, y_train, scoring='r2', cv=6)\n",
    "print(\"cross val mean LR:\", accuracy_lr.mean())\n",
    "print(\"cross val mean Ridge:\", accuracy_rb.mean())\n",
    "print(\"cross val mean SGD:\", accuracy_sgd.mean())\n"
   ]
  }
 ],
 "metadata": {
  "kernelspec": {
   "display_name": "Python 3",
   "language": "python",
   "name": "python3"
  },
  "language_info": {
   "codemirror_mode": {
    "name": "ipython",
    "version": 3
   },
   "file_extension": ".py",
   "mimetype": "text/x-python",
   "name": "python",
   "nbconvert_exporter": "python",
   "pygments_lexer": "ipython3",
   "version": "3.8.10"
  }
 },
 "nbformat": 4,
 "nbformat_minor": 4
}
