{
 "cells": [
  {
   "cell_type": "code",
   "execution_count": 5,
   "id": "2f666525",
   "metadata": {},
   "outputs": [
    {
     "data": {
      "text/plain": [
       "0.90712"
      ]
     },
     "execution_count": 5,
     "metadata": {},
     "output_type": "execute_result"
    }
   ],
   "source": [
    "from sklearn.ensemble import AdaBoostClassifier\n",
    "from sklearn.svm import SVC\n",
    "from sklearn.tree import DecisionTreeClassifier\n",
    "from sklearn.model_selection import train_test_split\n",
    "from sklearn.datasets import make_classification\n",
    "X, y = make_classification(n_samples=100000, n_features=14,\n",
    "                           n_informative=2, n_redundant=0,\n",
    "                           random_state=0, shuffle=True)\n",
    "X_train, X_test, y_train, y_test = train_test_split(X, y)\n",
    "clf = AdaBoostClassifier(n_estimators=100, random_state=0, algorithm = \"SAMME.R\")\n",
    "clf.fit(X_train, y_train)\n",
    "\n",
    "clf.score(X_test, y_test)\n"
   ]
  },
  {
   "cell_type": "code",
   "execution_count": 4,
   "id": "422fa32b",
   "metadata": {},
   "outputs": [
    {
     "data": {
      "text/plain": [
       "array([1.98738932, 0.5406903 , 0.64000063, 0.43107634, 0.2117522 ,\n",
       "       0.23365316, 0.38654502, 0.24894637, 0.32852432, 0.3552153 ,\n",
       "       0.23926927, 0.3873191 , 0.35155389, 0.24082912, 0.20529423,\n",
       "       0.25058257, 0.30636113, 0.22990755, 0.09924255, 0.25136454,\n",
       "       0.16769033, 0.12376235, 0.19157582, 0.11628525, 0.13933804,\n",
       "       0.18713437, 0.09737439, 0.09039622, 0.11867087, 0.17577725,\n",
       "       0.166694  , 0.19475189, 0.13430384, 0.13635448, 0.1129957 ,\n",
       "       0.13730753, 0.01189569, 0.02020986, 0.01992107, 0.01963836,\n",
       "       0.01936152, 0.01909038, 0.01882475, 0.01856447, 0.03387506,\n",
       "       0.05444136, 0.03818705, 0.10440078, 0.10533976, 0.07990767,\n",
       "       0.04717696, 0.09734141, 0.12528315, 0.06828206, 0.03354427,\n",
       "       0.06269687, 0.05295318, 0.01622825, 0.01793952, 0.08784971,\n",
       "       0.05653159, 0.07037221, 0.03044117, 0.01764307, 0.0172807 ,\n",
       "       0.01692703, 0.01658179, 0.01624471, 0.02792807, 0.01747898,\n",
       "       0.04300413, 0.02555334, 0.07605864, 0.01728412, 0.01155059,\n",
       "       0.01141724, 0.0112858 , 0.01115623, 0.01102849, 0.01090254,\n",
       "       0.07098457, 0.07975367, 0.02719795, 0.01066172, 0.01054098,\n",
       "       0.00985235, 0.00975341, 0.00965569, 0.02267831, 0.02258915,\n",
       "       0.02272369, 0.02151557, 0.06334258, 0.02183354, 0.03702103,\n",
       "       0.03735935, 0.01474575, 0.01279807, 0.02527095, 0.03887703])"
      ]
     },
     "execution_count": 4,
     "metadata": {},
     "output_type": "execute_result"
    }
   ],
   "source": [
    "clf.estimator_weights_"
   ]
  },
  {
   "cell_type": "code",
   "execution_count": 2,
   "id": "033d183c",
   "metadata": {},
   "outputs": [
    {
     "data": {
      "text/plain": [
       "0.9018"
      ]
     },
     "execution_count": 2,
     "metadata": {},
     "output_type": "execute_result"
    }
   ],
   "source": [
    "svc_clf = SVC()\n",
    "svc_clf.fit(X_train, y_train)\n",
    "svc_clf.score(X_test, y_test)"
   ]
  }
 ],
 "metadata": {
  "kernelspec": {
   "display_name": "Python 3 (ipykernel)",
   "language": "python",
   "name": "python3"
  },
  "language_info": {
   "codemirror_mode": {
    "name": "ipython",
    "version": 3
   },
   "file_extension": ".py",
   "mimetype": "text/x-python",
   "name": "python",
   "nbconvert_exporter": "python",
   "pygments_lexer": "ipython3",
   "version": "3.8.10"
  }
 },
 "nbformat": 4,
 "nbformat_minor": 5
}
