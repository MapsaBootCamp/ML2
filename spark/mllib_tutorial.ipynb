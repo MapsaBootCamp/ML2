{
 "cells": [
  {
   "cell_type": "code",
   "execution_count": 1,
   "id": "041d45c2-1ca8-4277-86ee-e38bf54870eb",
   "metadata": {},
   "outputs": [],
   "source": [
    "from pyspark.sql import SparkSession"
   ]
  },
  {
   "cell_type": "code",
   "execution_count": 2,
   "id": "98fcaac4-a956-43a5-bc48-7042657cb26a",
   "metadata": {},
   "outputs": [],
   "source": [
    "spark = SparkSession.builder.appName(\"MapsaBigData\").getOrCreate()"
   ]
  },
  {
   "cell_type": "code",
   "execution_count": 3,
   "id": "21979216-932f-4e1b-9671-ae5247e23bfb",
   "metadata": {},
   "outputs": [
    {
     "data": {
      "text/html": [
       "\n",
       "            <div>\n",
       "                <p><b>SparkSession - in-memory</b></p>\n",
       "                \n",
       "        <div>\n",
       "            <p><b>SparkContext</b></p>\n",
       "\n",
       "            <p><a href=\"http://f33874f3d22c:4041\">Spark UI</a></p>\n",
       "\n",
       "            <dl>\n",
       "              <dt>Version</dt>\n",
       "                <dd><code>v3.3.0</code></dd>\n",
       "              <dt>Master</dt>\n",
       "                <dd><code>local[*]</code></dd>\n",
       "              <dt>AppName</dt>\n",
       "                <dd><code>MapsaBigData</code></dd>\n",
       "            </dl>\n",
       "        </div>\n",
       "        \n",
       "            </div>\n",
       "        "
      ],
      "text/plain": [
       "<pyspark.sql.session.SparkSession at 0x7f7b817a59c0>"
      ]
     },
     "execution_count": 3,
     "metadata": {},
     "output_type": "execute_result"
    }
   ],
   "source": [
    "spark"
   ]
  },
  {
   "cell_type": "code",
   "execution_count": 4,
   "id": "bc86b2bf-4b0c-4af3-8bd2-3bb2c623dc93",
   "metadata": {},
   "outputs": [],
   "source": [
    "filePath = \"\"\"./databricks-datasets/learning-spark-v2/sf-airbnb/sf-airbnb-clean.parquet/\"\"\"\n",
    "airbnbDF = spark.read.parquet(filePath)\n",
    "airbnbDFFilterd = airbnbDF.select(\"neighbourhood_cleansed\", \"room_type\", \"bedrooms\", \"bathrooms\",\n",
    "\"number_of_reviews\", \"price\")"
   ]
  },
  {
   "cell_type": "code",
   "execution_count": 5,
   "id": "05e9fbcb-89c1-4f75-b7b4-8402503aa74f",
   "metadata": {},
   "outputs": [],
   "source": [
    "trainDF, testDF = airbnbDFFilterd.randomSplit([.8, .2], seed=42)"
   ]
  },
  {
   "cell_type": "code",
   "execution_count": 6,
   "id": "98da4559-56f3-4b78-a2b1-6a2747248c97",
   "metadata": {},
   "outputs": [
    {
     "data": {
      "text/plain": [
       "1366"
      ]
     },
     "execution_count": 6,
     "metadata": {},
     "output_type": "execute_result"
    }
   ],
   "source": [
    "testDF.count()"
   ]
  },
  {
   "cell_type": "code",
   "execution_count": 7,
   "id": "092b8ef5-1b85-43ba-886b-6d682db37793",
   "metadata": {},
   "outputs": [],
   "source": [
    "spark.conf.set('spark.sql.repl.eagerEval.enabled', True)"
   ]
  },
  {
   "cell_type": "code",
   "execution_count": 8,
   "id": "a62e96fb-fafb-4b65-ac63-bc5bfe1d5437",
   "metadata": {},
   "outputs": [
    {
     "data": {
      "text/html": [
       "<table border='1'>\n",
       "<tr><th>neighbourhood_cleansed</th><th>room_type</th><th>bedrooms</th><th>bathrooms</th><th>number_of_reviews</th><th>price</th></tr>\n",
       "<tr><td>Bayview</td><td>Entire home/apt</td><td>0.0</td><td>1.0</td><td>2.0</td><td>99.0</td></tr>\n",
       "<tr><td>Bayview</td><td>Entire home/apt</td><td>0.0</td><td>1.0</td><td>3.0</td><td>60.0</td></tr>\n",
       "<tr><td>Bayview</td><td>Entire home/apt</td><td>0.0</td><td>1.0</td><td>20.0</td><td>100.0</td></tr>\n",
       "<tr><td>Bayview</td><td>Entire home/apt</td><td>0.0</td><td>1.0</td><td>39.0</td><td>110.0</td></tr>\n",
       "<tr><td>Bayview</td><td>Entire home/apt</td><td>0.0</td><td>1.0</td><td>95.0</td><td>149.0</td></tr>\n",
       "<tr><td>Bayview</td><td>Entire home/apt</td><td>1.0</td><td>1.0</td><td>1.0</td><td>250.0</td></tr>\n",
       "<tr><td>Bayview</td><td>Entire home/apt</td><td>1.0</td><td>1.0</td><td>12.0</td><td>95.0</td></tr>\n",
       "<tr><td>Bayview</td><td>Entire home/apt</td><td>1.0</td><td>1.0</td><td>13.0</td><td>130.0</td></tr>\n",
       "<tr><td>Bayview</td><td>Entire home/apt</td><td>1.0</td><td>1.0</td><td>15.0</td><td>109.0</td></tr>\n",
       "<tr><td>Bayview</td><td>Entire home/apt</td><td>1.0</td><td>1.0</td><td>31.0</td><td>127.0</td></tr>\n",
       "<tr><td>Bayview</td><td>Entire home/apt</td><td>1.0</td><td>1.0</td><td>40.0</td><td>90.0</td></tr>\n",
       "<tr><td>Bayview</td><td>Entire home/apt</td><td>1.0</td><td>1.0</td><td>53.0</td><td>189.0</td></tr>\n",
       "<tr><td>Bayview</td><td>Entire home/apt</td><td>1.0</td><td>1.0</td><td>70.0</td><td>108.0</td></tr>\n",
       "<tr><td>Bayview</td><td>Entire home/apt</td><td>1.0</td><td>1.0</td><td>77.0</td><td>118.0</td></tr>\n",
       "<tr><td>Bayview</td><td>Entire home/apt</td><td>1.0</td><td>1.0</td><td>79.0</td><td>125.0</td></tr>\n",
       "<tr><td>Bayview</td><td>Entire home/apt</td><td>1.0</td><td>1.0</td><td>89.0</td><td>105.0</td></tr>\n",
       "<tr><td>Bayview</td><td>Entire home/apt</td><td>1.0</td><td>1.0</td><td>98.0</td><td>115.0</td></tr>\n",
       "<tr><td>Bayview</td><td>Entire home/apt</td><td>1.0</td><td>1.0</td><td>104.0</td><td>219.0</td></tr>\n",
       "<tr><td>Bayview</td><td>Entire home/apt</td><td>1.0</td><td>1.0</td><td>160.0</td><td>78.0</td></tr>\n",
       "<tr><td>Bayview</td><td>Entire home/apt</td><td>1.0</td><td>1.0</td><td>282.0</td><td>95.0</td></tr>\n",
       "</table>\n",
       "only showing top 20 rows\n"
      ],
      "text/plain": [
       "+----------------------+---------------+--------+---------+-----------------+-----+\n",
       "|neighbourhood_cleansed|      room_type|bedrooms|bathrooms|number_of_reviews|price|\n",
       "+----------------------+---------------+--------+---------+-----------------+-----+\n",
       "|               Bayview|Entire home/apt|     0.0|      1.0|              2.0| 99.0|\n",
       "|               Bayview|Entire home/apt|     0.0|      1.0|              3.0| 60.0|\n",
       "|               Bayview|Entire home/apt|     0.0|      1.0|             20.0|100.0|\n",
       "|               Bayview|Entire home/apt|     0.0|      1.0|             39.0|110.0|\n",
       "|               Bayview|Entire home/apt|     0.0|      1.0|             95.0|149.0|\n",
       "|               Bayview|Entire home/apt|     1.0|      1.0|              1.0|250.0|\n",
       "|               Bayview|Entire home/apt|     1.0|      1.0|             12.0| 95.0|\n",
       "|               Bayview|Entire home/apt|     1.0|      1.0|             13.0|130.0|\n",
       "|               Bayview|Entire home/apt|     1.0|      1.0|             15.0|109.0|\n",
       "|               Bayview|Entire home/apt|     1.0|      1.0|             31.0|127.0|\n",
       "|               Bayview|Entire home/apt|     1.0|      1.0|             40.0| 90.0|\n",
       "|               Bayview|Entire home/apt|     1.0|      1.0|             53.0|189.0|\n",
       "|               Bayview|Entire home/apt|     1.0|      1.0|             70.0|108.0|\n",
       "|               Bayview|Entire home/apt|     1.0|      1.0|             77.0|118.0|\n",
       "|               Bayview|Entire home/apt|     1.0|      1.0|             79.0|125.0|\n",
       "|               Bayview|Entire home/apt|     1.0|      1.0|             89.0|105.0|\n",
       "|               Bayview|Entire home/apt|     1.0|      1.0|             98.0|115.0|\n",
       "|               Bayview|Entire home/apt|     1.0|      1.0|            104.0|219.0|\n",
       "|               Bayview|Entire home/apt|     1.0|      1.0|            160.0| 78.0|\n",
       "|               Bayview|Entire home/apt|     1.0|      1.0|            282.0| 95.0|\n",
       "+----------------------+---------------+--------+---------+-----------------+-----+\n",
       "only showing top 20 rows"
      ]
     },
     "execution_count": 8,
     "metadata": {},
     "output_type": "execute_result"
    }
   ],
   "source": [
    "trainDF"
   ]
  },
  {
   "cell_type": "code",
   "execution_count": 9,
   "id": "e7b00df9-3a37-48cc-998e-49b08cb70268",
   "metadata": {},
   "outputs": [],
   "source": [
    "from pyspark.ml.feature import VectorAssembler"
   ]
  },
  {
   "cell_type": "code",
   "execution_count": 10,
   "id": "0c12565d-17d2-423b-bfcc-f6d7fa993492",
   "metadata": {},
   "outputs": [],
   "source": [
    "vecAssembler = VectorAssembler(inputCols=[\"bedrooms\"], outputCol=\"features\")\n",
    "vecTrainDF = vecAssembler.transform(trainDF)"
   ]
  },
  {
   "cell_type": "code",
   "execution_count": 11,
   "id": "0615fe22-738f-4182-bb51-38ad9b651eb5",
   "metadata": {},
   "outputs": [
    {
     "name": "stdout",
     "output_type": "stream",
     "text": [
      "+--------+--------+-----+\n",
      "|bedrooms|features|price|\n",
      "+--------+--------+-----+\n",
      "|     0.0|   [0.0]| 99.0|\n",
      "|     0.0|   [0.0]| 60.0|\n",
      "|     0.0|   [0.0]|100.0|\n",
      "|     0.0|   [0.0]|110.0|\n",
      "|     0.0|   [0.0]|149.0|\n",
      "|     1.0|   [1.0]|250.0|\n",
      "|     1.0|   [1.0]| 95.0|\n",
      "|     1.0|   [1.0]|130.0|\n",
      "|     1.0|   [1.0]|109.0|\n",
      "|     1.0|   [1.0]|127.0|\n",
      "+--------+--------+-----+\n",
      "only showing top 10 rows\n",
      "\n"
     ]
    }
   ],
   "source": [
    "vecTrainDF.select(\"bedrooms\", \"features\", \"price\").show(10)"
   ]
  },
  {
   "cell_type": "code",
   "execution_count": 12,
   "id": "2a3edef7-ad40-4683-be16-6bd65b472a83",
   "metadata": {},
   "outputs": [],
   "source": [
    "from pyspark.ml.regression import LinearRegression"
   ]
  },
  {
   "cell_type": "code",
   "execution_count": 13,
   "id": "b0fe2200-369a-4511-9102-463e5d66d948",
   "metadata": {},
   "outputs": [],
   "source": [
    "lr = LinearRegression(featuresCol=\"features\", labelCol=\"price\")\n",
    "lrModel = lr.fit(vecTrainDF)"
   ]
  },
  {
   "cell_type": "code",
   "execution_count": 14,
   "id": "33362e60-65a8-4722-800d-dbf966cbf39c",
   "metadata": {},
   "outputs": [
    {
     "data": {
      "text/plain": [
       "51.7988030413165"
      ]
     },
     "execution_count": 14,
     "metadata": {},
     "output_type": "execute_result"
    }
   ],
   "source": [
    "lrModel.intercept"
   ]
  },
  {
   "cell_type": "code",
   "execution_count": 15,
   "id": "81d860c3-41ff-4c0a-b020-bda19cb715b5",
   "metadata": {},
   "outputs": [],
   "source": [
    "from pyspark.ml import Pipeline\n",
    "pipeline = Pipeline(stages=[vecAssembler, lr])\n",
    "pipelineModel = pipeline.fit(trainDF)"
   ]
  },
  {
   "cell_type": "code",
   "execution_count": 16,
   "id": "bb2cf66e-b62e-44f8-bda1-9f1f4cf67450",
   "metadata": {},
   "outputs": [
    {
     "name": "stdout",
     "output_type": "stream",
     "text": [
      "+--------+--------+-----+------------------+\n",
      "|bedrooms|features|price|        prediction|\n",
      "+--------+--------+-----+------------------+\n",
      "|     0.0|   [0.0]|115.0|  51.7988030413165|\n",
      "|     0.0|   [0.0]|199.0|  51.7988030413165|\n",
      "|     1.0|   [1.0]| 95.0|173.33189308801815|\n",
      "|     1.0|   [1.0]| 88.0|173.33189308801815|\n",
      "|     1.0|   [1.0]| 99.0|173.33189308801815|\n",
      "|     1.0|   [1.0]| 85.0|173.33189308801815|\n",
      "|     2.0|   [2.0]|300.0| 294.8649831347198|\n",
      "|     2.0|   [2.0]|445.0| 294.8649831347198|\n",
      "|     2.0|   [2.0]|175.0| 294.8649831347198|\n",
      "|     2.0|   [2.0]|120.0| 294.8649831347198|\n",
      "+--------+--------+-----+------------------+\n",
      "only showing top 10 rows\n",
      "\n"
     ]
    }
   ],
   "source": [
    "predDF = pipelineModel.transform(testDF)\n",
    "predDF.select(\"bedrooms\", \"features\", \"price\", \"prediction\").show(10)"
   ]
  },
  {
   "cell_type": "code",
   "execution_count": 17,
   "id": "c361bcad-e138-419c-8fc0-9c0781a83437",
   "metadata": {},
   "outputs": [],
   "source": [
    "from pyspark.ml.feature import OneHotEncoder, StringIndexer\n",
    "\n",
    "categoricalCols = [field for (field, dataType) in trainDF.dtypes if dataType == \"string\"]\n",
    "\n",
    "indexOutputCols = [x + \"Index\" for x in categoricalCols]\n",
    "\n",
    "oheOutputCols = [x + \"OHE\" for x in categoricalCols]\n",
    "\n",
    "stringIndexer = StringIndexer(inputCols=categoricalCols, outputCols=indexOutputCols, handleInvalid=\"skip\")\n",
    "\n",
    "oheEncoder = OneHotEncoder(inputCols=indexOutputCols, outputCols=oheOutputCols)\n",
    "\n",
    "numericCols = [field for (field, dataType) in trainDF.dtypes if ((dataType == \"double\") & (field != \"price\"))]\n",
    "\n",
    "assemblerInputs = oheOutputCols + numericCols\n",
    "\n",
    "vecAssembler = VectorAssembler(inputCols=assemblerInputs, outputCol=\"features\")"
   ]
  },
  {
   "cell_type": "code",
   "execution_count": 18,
   "id": "a80bd5a1-9057-4030-8c94-88ea872ab16c",
   "metadata": {},
   "outputs": [],
   "source": [
    "pipelineTransformer = Pipeline(stages=[stringIndexer, oheEncoder, vecAssembler])"
   ]
  },
  {
   "cell_type": "code",
   "execution_count": 19,
   "id": "cc9641d6-ee22-497e-9469-12e99ce6e7b0",
   "metadata": {},
   "outputs": [],
   "source": [
    "piplineObj = pipelineTransformer.fit(trainDF)"
   ]
  },
  {
   "cell_type": "code",
   "execution_count": 20,
   "id": "611977e0-567c-45d4-8047-4297f32535f5",
   "metadata": {},
   "outputs": [],
   "source": [
    "transformedData = piplineObj.transform(trainDF)"
   ]
  },
  {
   "cell_type": "code",
   "execution_count": 21,
   "id": "16162ac1-eb6f-46fd-a414-2c3437f37614",
   "metadata": {},
   "outputs": [
    {
     "data": {
      "text/html": [
       "<table border='1'>\n",
       "<tr><th>neighbourhood_cleansed</th><th>room_type</th><th>bedrooms</th><th>bathrooms</th><th>number_of_reviews</th><th>price</th><th>neighbourhood_cleansedIndex</th><th>room_typeIndex</th><th>neighbourhood_cleansedOHE</th><th>room_typeOHE</th><th>features</th></tr>\n",
       "<tr><td>Bayview</td><td>Entire home/apt</td><td>0.0</td><td>1.0</td><td>2.0</td><td>99.0</td><td>15.0</td><td>0.0</td><td>(35,[15],[1.0])</td><td>(2,[0],[1.0])</td><td>(40,[15,35,38,39]...</td></tr>\n",
       "<tr><td>Bayview</td><td>Entire home/apt</td><td>0.0</td><td>1.0</td><td>3.0</td><td>60.0</td><td>15.0</td><td>0.0</td><td>(35,[15],[1.0])</td><td>(2,[0],[1.0])</td><td>(40,[15,35,38,39]...</td></tr>\n",
       "<tr><td>Bayview</td><td>Entire home/apt</td><td>0.0</td><td>1.0</td><td>20.0</td><td>100.0</td><td>15.0</td><td>0.0</td><td>(35,[15],[1.0])</td><td>(2,[0],[1.0])</td><td>(40,[15,35,38,39]...</td></tr>\n",
       "<tr><td>Bayview</td><td>Entire home/apt</td><td>0.0</td><td>1.0</td><td>39.0</td><td>110.0</td><td>15.0</td><td>0.0</td><td>(35,[15],[1.0])</td><td>(2,[0],[1.0])</td><td>(40,[15,35,38,39]...</td></tr>\n",
       "<tr><td>Bayview</td><td>Entire home/apt</td><td>0.0</td><td>1.0</td><td>95.0</td><td>149.0</td><td>15.0</td><td>0.0</td><td>(35,[15],[1.0])</td><td>(2,[0],[1.0])</td><td>(40,[15,35,38,39]...</td></tr>\n",
       "<tr><td>Bayview</td><td>Entire home/apt</td><td>1.0</td><td>1.0</td><td>1.0</td><td>250.0</td><td>15.0</td><td>0.0</td><td>(35,[15],[1.0])</td><td>(2,[0],[1.0])</td><td>(40,[15,35,37,38,...</td></tr>\n",
       "<tr><td>Bayview</td><td>Entire home/apt</td><td>1.0</td><td>1.0</td><td>12.0</td><td>95.0</td><td>15.0</td><td>0.0</td><td>(35,[15],[1.0])</td><td>(2,[0],[1.0])</td><td>(40,[15,35,37,38,...</td></tr>\n",
       "<tr><td>Bayview</td><td>Entire home/apt</td><td>1.0</td><td>1.0</td><td>13.0</td><td>130.0</td><td>15.0</td><td>0.0</td><td>(35,[15],[1.0])</td><td>(2,[0],[1.0])</td><td>(40,[15,35,37,38,...</td></tr>\n",
       "<tr><td>Bayview</td><td>Entire home/apt</td><td>1.0</td><td>1.0</td><td>15.0</td><td>109.0</td><td>15.0</td><td>0.0</td><td>(35,[15],[1.0])</td><td>(2,[0],[1.0])</td><td>(40,[15,35,37,38,...</td></tr>\n",
       "<tr><td>Bayview</td><td>Entire home/apt</td><td>1.0</td><td>1.0</td><td>31.0</td><td>127.0</td><td>15.0</td><td>0.0</td><td>(35,[15],[1.0])</td><td>(2,[0],[1.0])</td><td>(40,[15,35,37,38,...</td></tr>\n",
       "<tr><td>Bayview</td><td>Entire home/apt</td><td>1.0</td><td>1.0</td><td>40.0</td><td>90.0</td><td>15.0</td><td>0.0</td><td>(35,[15],[1.0])</td><td>(2,[0],[1.0])</td><td>(40,[15,35,37,38,...</td></tr>\n",
       "<tr><td>Bayview</td><td>Entire home/apt</td><td>1.0</td><td>1.0</td><td>53.0</td><td>189.0</td><td>15.0</td><td>0.0</td><td>(35,[15],[1.0])</td><td>(2,[0],[1.0])</td><td>(40,[15,35,37,38,...</td></tr>\n",
       "<tr><td>Bayview</td><td>Entire home/apt</td><td>1.0</td><td>1.0</td><td>70.0</td><td>108.0</td><td>15.0</td><td>0.0</td><td>(35,[15],[1.0])</td><td>(2,[0],[1.0])</td><td>(40,[15,35,37,38,...</td></tr>\n",
       "<tr><td>Bayview</td><td>Entire home/apt</td><td>1.0</td><td>1.0</td><td>77.0</td><td>118.0</td><td>15.0</td><td>0.0</td><td>(35,[15],[1.0])</td><td>(2,[0],[1.0])</td><td>(40,[15,35,37,38,...</td></tr>\n",
       "<tr><td>Bayview</td><td>Entire home/apt</td><td>1.0</td><td>1.0</td><td>79.0</td><td>125.0</td><td>15.0</td><td>0.0</td><td>(35,[15],[1.0])</td><td>(2,[0],[1.0])</td><td>(40,[15,35,37,38,...</td></tr>\n",
       "<tr><td>Bayview</td><td>Entire home/apt</td><td>1.0</td><td>1.0</td><td>89.0</td><td>105.0</td><td>15.0</td><td>0.0</td><td>(35,[15],[1.0])</td><td>(2,[0],[1.0])</td><td>(40,[15,35,37,38,...</td></tr>\n",
       "<tr><td>Bayview</td><td>Entire home/apt</td><td>1.0</td><td>1.0</td><td>98.0</td><td>115.0</td><td>15.0</td><td>0.0</td><td>(35,[15],[1.0])</td><td>(2,[0],[1.0])</td><td>(40,[15,35,37,38,...</td></tr>\n",
       "<tr><td>Bayview</td><td>Entire home/apt</td><td>1.0</td><td>1.0</td><td>104.0</td><td>219.0</td><td>15.0</td><td>0.0</td><td>(35,[15],[1.0])</td><td>(2,[0],[1.0])</td><td>(40,[15,35,37,38,...</td></tr>\n",
       "<tr><td>Bayview</td><td>Entire home/apt</td><td>1.0</td><td>1.0</td><td>160.0</td><td>78.0</td><td>15.0</td><td>0.0</td><td>(35,[15],[1.0])</td><td>(2,[0],[1.0])</td><td>(40,[15,35,37,38,...</td></tr>\n",
       "<tr><td>Bayview</td><td>Entire home/apt</td><td>1.0</td><td>1.0</td><td>282.0</td><td>95.0</td><td>15.0</td><td>0.0</td><td>(35,[15],[1.0])</td><td>(2,[0],[1.0])</td><td>(40,[15,35,37,38,...</td></tr>\n",
       "</table>\n",
       "only showing top 20 rows\n"
      ],
      "text/plain": [
       "+----------------------+---------------+--------+---------+-----------------+-----+---------------------------+--------------+-------------------------+-------------+--------------------+\n",
       "|neighbourhood_cleansed|      room_type|bedrooms|bathrooms|number_of_reviews|price|neighbourhood_cleansedIndex|room_typeIndex|neighbourhood_cleansedOHE| room_typeOHE|            features|\n",
       "+----------------------+---------------+--------+---------+-----------------+-----+---------------------------+--------------+-------------------------+-------------+--------------------+\n",
       "|               Bayview|Entire home/apt|     0.0|      1.0|              2.0| 99.0|                       15.0|           0.0|          (35,[15],[1.0])|(2,[0],[1.0])|(40,[15,35,38,39]...|\n",
       "|               Bayview|Entire home/apt|     0.0|      1.0|              3.0| 60.0|                       15.0|           0.0|          (35,[15],[1.0])|(2,[0],[1.0])|(40,[15,35,38,39]...|\n",
       "|               Bayview|Entire home/apt|     0.0|      1.0|             20.0|100.0|                       15.0|           0.0|          (35,[15],[1.0])|(2,[0],[1.0])|(40,[15,35,38,39]...|\n",
       "|               Bayview|Entire home/apt|     0.0|      1.0|             39.0|110.0|                       15.0|           0.0|          (35,[15],[1.0])|(2,[0],[1.0])|(40,[15,35,38,39]...|\n",
       "|               Bayview|Entire home/apt|     0.0|      1.0|             95.0|149.0|                       15.0|           0.0|          (35,[15],[1.0])|(2,[0],[1.0])|(40,[15,35,38,39]...|\n",
       "|               Bayview|Entire home/apt|     1.0|      1.0|              1.0|250.0|                       15.0|           0.0|          (35,[15],[1.0])|(2,[0],[1.0])|(40,[15,35,37,38,...|\n",
       "|               Bayview|Entire home/apt|     1.0|      1.0|             12.0| 95.0|                       15.0|           0.0|          (35,[15],[1.0])|(2,[0],[1.0])|(40,[15,35,37,38,...|\n",
       "|               Bayview|Entire home/apt|     1.0|      1.0|             13.0|130.0|                       15.0|           0.0|          (35,[15],[1.0])|(2,[0],[1.0])|(40,[15,35,37,38,...|\n",
       "|               Bayview|Entire home/apt|     1.0|      1.0|             15.0|109.0|                       15.0|           0.0|          (35,[15],[1.0])|(2,[0],[1.0])|(40,[15,35,37,38,...|\n",
       "|               Bayview|Entire home/apt|     1.0|      1.0|             31.0|127.0|                       15.0|           0.0|          (35,[15],[1.0])|(2,[0],[1.0])|(40,[15,35,37,38,...|\n",
       "|               Bayview|Entire home/apt|     1.0|      1.0|             40.0| 90.0|                       15.0|           0.0|          (35,[15],[1.0])|(2,[0],[1.0])|(40,[15,35,37,38,...|\n",
       "|               Bayview|Entire home/apt|     1.0|      1.0|             53.0|189.0|                       15.0|           0.0|          (35,[15],[1.0])|(2,[0],[1.0])|(40,[15,35,37,38,...|\n",
       "|               Bayview|Entire home/apt|     1.0|      1.0|             70.0|108.0|                       15.0|           0.0|          (35,[15],[1.0])|(2,[0],[1.0])|(40,[15,35,37,38,...|\n",
       "|               Bayview|Entire home/apt|     1.0|      1.0|             77.0|118.0|                       15.0|           0.0|          (35,[15],[1.0])|(2,[0],[1.0])|(40,[15,35,37,38,...|\n",
       "|               Bayview|Entire home/apt|     1.0|      1.0|             79.0|125.0|                       15.0|           0.0|          (35,[15],[1.0])|(2,[0],[1.0])|(40,[15,35,37,38,...|\n",
       "|               Bayview|Entire home/apt|     1.0|      1.0|             89.0|105.0|                       15.0|           0.0|          (35,[15],[1.0])|(2,[0],[1.0])|(40,[15,35,37,38,...|\n",
       "|               Bayview|Entire home/apt|     1.0|      1.0|             98.0|115.0|                       15.0|           0.0|          (35,[15],[1.0])|(2,[0],[1.0])|(40,[15,35,37,38,...|\n",
       "|               Bayview|Entire home/apt|     1.0|      1.0|            104.0|219.0|                       15.0|           0.0|          (35,[15],[1.0])|(2,[0],[1.0])|(40,[15,35,37,38,...|\n",
       "|               Bayview|Entire home/apt|     1.0|      1.0|            160.0| 78.0|                       15.0|           0.0|          (35,[15],[1.0])|(2,[0],[1.0])|(40,[15,35,37,38,...|\n",
       "|               Bayview|Entire home/apt|     1.0|      1.0|            282.0| 95.0|                       15.0|           0.0|          (35,[15],[1.0])|(2,[0],[1.0])|(40,[15,35,37,38,...|\n",
       "+----------------------+---------------+--------+---------+-----------------+-----+---------------------------+--------------+-------------------------+-------------+--------------------+\n",
       "only showing top 20 rows"
      ]
     },
     "execution_count": 21,
     "metadata": {},
     "output_type": "execute_result"
    }
   ],
   "source": [
    "transformedData"
   ]
  },
  {
   "cell_type": "code",
   "execution_count": 22,
   "id": "40f41c91-ff52-4258-b185-e49651a82813",
   "metadata": {},
   "outputs": [
    {
     "data": {
      "text/plain": [
       "3"
      ]
     },
     "execution_count": 22,
     "metadata": {},
     "output_type": "execute_result"
    }
   ],
   "source": [
    "transformedData.select(\"room_typeIndex\").distinct().count()"
   ]
  },
  {
   "cell_type": "code",
   "execution_count": 23,
   "id": "04d2a727-9d29-4cfe-895a-e10f6285fa05",
   "metadata": {},
   "outputs": [],
   "source": [
    "pipeline = Pipeline(stages = [stringIndexer, oheEncoder, vecAssembler, lr])"
   ]
  },
  {
   "cell_type": "code",
   "execution_count": 24,
   "id": "44cef573-4ac0-48ea-bf5f-3b861c60e0e5",
   "metadata": {},
   "outputs": [],
   "source": [
    "pipelineModel = pipeline.fit(trainDF)"
   ]
  },
  {
   "cell_type": "code",
   "execution_count": 25,
   "id": "bc27db5d-5f77-4816-aba9-dc69f8d79099",
   "metadata": {},
   "outputs": [],
   "source": [
    "predDF = pipelineModel.transform(testDF)"
   ]
  },
  {
   "cell_type": "code",
   "execution_count": 29,
   "id": "d8ba40ac-2bbd-4d67-b9de-783e17f188a9",
   "metadata": {},
   "outputs": [
    {
     "name": "stdout",
     "output_type": "stream",
     "text": [
      "+---------------------------------------------+\n",
      "|features                                     |\n",
      "+---------------------------------------------+\n",
      "|(40,[15,35,38,39],[1.0,1.0,1.0,19.0])        |\n",
      "|(40,[15,35,38,39],[1.0,1.0,1.0,109.0])       |\n",
      "|(40,[15,35,37,38,39],[1.0,1.0,1.0,1.0,5.0])  |\n",
      "|(40,[15,35,37,38,39],[1.0,1.0,1.0,1.0,35.0]) |\n",
      "|(40,[15,35,37,38,39],[1.0,1.0,1.0,1.0,87.0]) |\n",
      "|(40,[15,35,37,38,39],[1.0,1.0,1.0,1.0,128.0])|\n",
      "|(40,[15,35,37,38,39],[1.0,1.0,2.0,1.0,3.0])  |\n",
      "|(40,[15,35,37,38,39],[1.0,1.0,2.0,1.0,59.0]) |\n",
      "|(40,[15,35,37,38,39],[1.0,1.0,2.0,2.0,9.0])  |\n",
      "|(40,[15,35,37,38,39],[1.0,1.0,2.0,2.0,75.0]) |\n",
      "|(40,[15,35,37,38,39],[1.0,1.0,2.0,2.5,1.0])  |\n",
      "|(40,[15,35,37,38],[1.0,1.0,3.0,1.0])         |\n",
      "|(40,[15,35,37,38],[1.0,1.0,3.0,1.0])         |\n",
      "|(40,[15,35,37,38,39],[1.0,1.0,3.0,1.0,9.0])  |\n",
      "|(40,[15,35,37,38,39],[1.0,1.0,3.0,3.0,1.0])  |\n",
      "|(40,[15,36,38,39],[1.0,1.0,1.0,2.0])         |\n",
      "|(40,[15,36,37,38],[1.0,1.0,1.0,1.0])         |\n",
      "|(40,[15,36,37,38,39],[1.0,1.0,1.0,1.0,7.0])  |\n",
      "|(40,[15,36,37,38,39],[1.0,1.0,1.0,1.0,25.0]) |\n",
      "|(40,[15,36,37,38,39],[1.0,1.0,1.0,1.0,28.0]) |\n",
      "+---------------------------------------------+\n",
      "only showing top 20 rows\n",
      "\n"
     ]
    }
   ],
   "source": [
    "predDF.select(\"features\").show(truncate=False)"
   ]
  },
  {
   "cell_type": "code",
   "execution_count": 30,
   "id": "7a676167-4e82-4682-8e65-374a3f914a1d",
   "metadata": {},
   "outputs": [],
   "source": [
    "from pyspark.ml.evaluation import RegressionEvaluator"
   ]
  },
  {
   "cell_type": "code",
   "execution_count": 34,
   "id": "14f55d42-8cba-4914-9df9-e71318d0b155",
   "metadata": {},
   "outputs": [],
   "source": [
    "regressionEvaluator = RegressionEvaluator(predictionCol=\"prediction\",\n",
    "                                          labelCol=\"price\",metricName=\"r2\")"
   ]
  },
  {
   "cell_type": "code",
   "execution_count": 35,
   "id": "f62a2cd7-e30e-4fe5-afd8-41821bec72ae",
   "metadata": {},
   "outputs": [
    {
     "data": {
      "text/plain": [
       "0.2923250512096982"
      ]
     },
     "execution_count": 35,
     "metadata": {},
     "output_type": "execute_result"
    }
   ],
   "source": [
    "regressionEvaluator.evaluate(predDF)"
   ]
  }
 ],
 "metadata": {
  "kernelspec": {
   "display_name": "Python 3 (ipykernel)",
   "language": "python",
   "name": "python3"
  },
  "language_info": {
   "codemirror_mode": {
    "name": "ipython",
    "version": 3
   },
   "file_extension": ".py",
   "mimetype": "text/x-python",
   "name": "python",
   "nbconvert_exporter": "python",
   "pygments_lexer": "ipython3",
   "version": "3.10.6"
  }
 },
 "nbformat": 4,
 "nbformat_minor": 5
}
