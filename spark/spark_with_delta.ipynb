{
 "cells": [
  {
   "cell_type": "code",
   "execution_count": 1,
   "id": "b31daffe-c1b5-441c-bb1a-eeae2fd6a2e0",
   "metadata": {},
   "outputs": [
    {
     "name": "stdout",
     "output_type": "stream",
     "text": [
      "Collecting delta-spark\n",
      "  Downloading delta_spark-2.1.0-py3-none-any.whl (20 kB)\n",
      "Requirement already satisfied: pyspark<3.4.0,>=3.3.0 in /usr/local/spark-3.3.0-bin-hadoop3/python (from delta-spark) (3.3.0)\n",
      "Requirement already satisfied: importlib-metadata>=1.0.0 in /opt/conda/lib/python3.10/site-packages (from delta-spark) (4.11.4)\n",
      "Requirement already satisfied: zipp>=0.5 in /opt/conda/lib/python3.10/site-packages (from importlib-metadata>=1.0.0->delta-spark) (3.8.1)\n",
      "Collecting py4j==0.10.9.5\n",
      "  Downloading py4j-0.10.9.5-py2.py3-none-any.whl (199 kB)\n",
      "\u001b[2K     \u001b[90m━━━━━━━━━━━━━━━━━━━━━━━━━━━━━━━━━━━━━\u001b[0m \u001b[32m199.7/199.7 kB\u001b[0m \u001b[31m629.2 kB/s\u001b[0m eta \u001b[36m0:00:00\u001b[0m00:01\u001b[0m00:01\u001b[0m\n",
      "\u001b[?25hInstalling collected packages: py4j, delta-spark\n",
      "Successfully installed delta-spark-2.1.0 py4j-0.10.9.5\n",
      "Note: you may need to restart the kernel to use updated packages.\n"
     ]
    }
   ],
   "source": [
    "pip install delta-spark"
   ]
  },
  {
   "cell_type": "code",
   "execution_count": 4,
   "id": "80318bd6-2af2-4dd6-9617-e2372f46e740",
   "metadata": {},
   "outputs": [],
   "source": [
    "from delta import *\n",
    "import pyspark"
   ]
  },
  {
   "cell_type": "code",
   "execution_count": 5,
   "id": "dd7d78ac-75a3-4035-a376-d46b7f2d02b0",
   "metadata": {},
   "outputs": [],
   "source": [
    "builder = pyspark.sql.SparkSession.builder.appName(\"MapsaDelta\") \\\n",
    ".config(\"spark.sql.extensions\", \"io.delta.sql.DeltaSparkSessionExtension\") \\\n",
    ".config(\"spark.sql.catalog.spark_catalog\", \"org.apache.spark.sql.delta.catalog.DeltaCatalog\")"
   ]
  },
  {
   "cell_type": "code",
   "execution_count": 7,
   "id": "82d791b3-b03d-448e-8943-9753e68cab74",
   "metadata": {},
   "outputs": [],
   "source": [
    "spark = configure_spark_with_delta_pip(builder).getOrCreate()"
   ]
  },
  {
   "cell_type": "code",
   "execution_count": 8,
   "id": "06443735-ec2f-41d4-8316-7ca4172fc15e",
   "metadata": {},
   "outputs": [],
   "source": [
    "data = spark.range(0, 5)\n",
    "data.write.format(\"delta\").save(\"/tmp/delta-table\")"
   ]
  },
  {
   "cell_type": "code",
   "execution_count": 9,
   "id": "ec07a4de-33e3-4723-afde-421e1cfa1093",
   "metadata": {},
   "outputs": [
    {
     "name": "stdout",
     "output_type": "stream",
     "text": [
      "\u001b[0m\u001b[01;34m_delta_log\u001b[0m/\n",
      "part-00000-7e2bee6b-83cf-4c72-bdc5-6c9ad2846cdf-c000.snappy.parquet\n",
      "part-00001-77604504-a948-4b4f-9a21-318bf5ba48df-c000.snappy.parquet\n",
      "part-00002-6eb357c4-88cc-4eef-ab76-8b91d8b84e5a-c000.snappy.parquet\n",
      "part-00003-49b6c01a-ca33-4c1b-b8ab-0677f2328c89-c000.snappy.parquet\n"
     ]
    }
   ],
   "source": [
    "ls /tmp/delta-table"
   ]
  },
  {
   "cell_type": "code",
   "execution_count": 10,
   "id": "d9951fee-4c35-4dea-ad7c-abbe68d7c84d",
   "metadata": {},
   "outputs": [],
   "source": [
    "sourcePath = \"./databricks-datasets/learning-spark-v2/loans/loan-risks.snappy.parquet\""
   ]
  },
  {
   "cell_type": "code",
   "execution_count": 12,
   "id": "8624ac4a-95bb-48df-a511-b36956c6796a",
   "metadata": {},
   "outputs": [],
   "source": [
    "spark.read \\\n",
    ".format(\"parquet\") \\\n",
    ".load(sourcePath) \\\n",
    ".write \\\n",
    ".format(\"delta\") \\\n",
    ".save(\"/tmp/loan-table\")"
   ]
  },
  {
   "cell_type": "code",
   "execution_count": 13,
   "id": "c098c201-a744-4cbd-bb83-aab257caa679",
   "metadata": {},
   "outputs": [
    {
     "name": "stdout",
     "output_type": "stream",
     "text": [
      "\u001b[0m\u001b[01;34m_delta_log\u001b[0m/\n",
      "part-00000-937ec015-4914-4b0d-aec3-aaae52441813-c000.snappy.parquet\n"
     ]
    }
   ],
   "source": [
    "ls /tmp/loan-table/"
   ]
  },
  {
   "cell_type": "code",
   "execution_count": 14,
   "id": "bb200913-2135-4cf8-9b59-3d146f9d5b95",
   "metadata": {},
   "outputs": [],
   "source": [
    "spark.read.format(\"delta\").load(\"/tmp/loan-table\").createOrReplaceTempView(\"loans_data\")"
   ]
  },
  {
   "cell_type": "code",
   "execution_count": 17,
   "id": "bf693336-f146-43a8-b475-18b0c9f62ff6",
   "metadata": {},
   "outputs": [
    {
     "name": "stdout",
     "output_type": "stream",
     "text": [
      "+-------+-----------+---------+----------+\n",
      "|loan_id|funded_amnt|paid_amnt|addr_state|\n",
      "+-------+-----------+---------+----------+\n",
      "|      0|       1000|   182.22|        CA|\n",
      "|      1|       1000|   361.19|        WA|\n",
      "|      2|       1000|   176.26|        TX|\n",
      "|      3|       1000|   1000.0|        OK|\n",
      "|      4|       1000|   249.98|        PA|\n",
      "|      5|       1000|    408.6|        CA|\n",
      "|      6|       1000|   1000.0|        MD|\n",
      "|      7|       1000|   168.81|        OH|\n",
      "|      8|       1000|   193.64|        TX|\n",
      "|      9|       1000|   218.83|        CT|\n",
      "|     10|       1000|   322.37|        NJ|\n",
      "|     11|       1000|   400.61|        NY|\n",
      "|     12|       1000|   1000.0|        FL|\n",
      "|     13|       1000|   165.88|        NJ|\n",
      "|     14|       1000|    190.6|        TX|\n",
      "|     15|       1000|   1000.0|        OH|\n",
      "|     16|       1000|   213.72|        MI|\n",
      "|     17|       1000|   188.89|        MI|\n",
      "|     18|       1000|   237.41|        CA|\n",
      "|     19|       1000|   203.85|        CA|\n",
      "+-------+-----------+---------+----------+\n",
      "only showing top 20 rows\n",
      "\n"
     ]
    }
   ],
   "source": [
    "spark.sql(\"SELECT * FROM loans_data\").show()"
   ]
  }
 ],
 "metadata": {
  "kernelspec": {
   "display_name": "Python 3 (ipykernel)",
   "language": "python",
   "name": "python3"
  },
  "language_info": {
   "codemirror_mode": {
    "name": "ipython",
    "version": 3
   },
   "file_extension": ".py",
   "mimetype": "text/x-python",
   "name": "python",
   "nbconvert_exporter": "python",
   "pygments_lexer": "ipython3",
   "version": "3.10.6"
  }
 },
 "nbformat": 4,
 "nbformat_minor": 5
}
