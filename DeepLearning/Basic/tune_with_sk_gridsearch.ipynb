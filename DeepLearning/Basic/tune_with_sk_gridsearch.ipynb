{
  "nbformat": 4,
  "nbformat_minor": 0,
  "metadata": {
    "colab": {
      "name": "tune_with_sk_gridsearch.ipynb",
      "provenance": [],
      "collapsed_sections": []
    },
    "kernelspec": {
      "name": "python3",
      "display_name": "Python 3"
    },
    "language_info": {
      "name": "python"
    }
  },
  "cells": [
    {
      "cell_type": "code",
      "execution_count": null,
      "metadata": {
        "id": "CANc21m2eWRl"
      },
      "outputs": [],
      "source": [
        "import tensorflow as tf\n",
        "import pandas as pd\n",
        "from keras.wrappers.scikit_learn import KerasClassifier\n",
        "from sklearn.model_selection import GridSearchCV"
      ]
    },
    {
      "cell_type": "code",
      "source": [
        "fashion_mnist = tf.keras.datasets.fashion_mnist.load_data()\n",
        "(X_train_full, y_train_full), (X_test, y_test) = fashion_mnist"
      ],
      "metadata": {
        "id": "wH-V5nmmflSr"
      },
      "execution_count": null,
      "outputs": []
    },
    {
      "cell_type": "code",
      "source": [
        "X_train, y_train = X_train_full[:-5000], y_train_full[:-5000]\n",
        "X_valid, y_valid = X_train_full[-5000:], y_train_full[-5000:]"
      ],
      "metadata": {
        "id": "XWXxEKD1fykL"
      },
      "execution_count": null,
      "outputs": []
    },
    {
      "cell_type": "code",
      "source": [
        "X_train, X_valid, X_test = X_train / 255., X_valid / 255., X_test/ 255."
      ],
      "metadata": {
        "id": "t7pjAZpafssL"
      },
      "execution_count": null,
      "outputs": []
    },
    {
      "cell_type": "code",
      "source": [
        "def build_clf(unit):\n",
        "  model = tf.keras.models.Sequential()\n",
        "  model.add(tf.keras.layers.InputLayer(input_shape=[28, 28]))\n",
        "  model.add(tf.keras.layers.Flatten())\n",
        "  model.add(tf.keras.layers.Dense(units=unit, activation='relu'))\n",
        "  model.add(tf.keras.layers.Dense(units=unit, activation='relu'))\n",
        "  model.add(tf.keras.layers.Dense(units=10, activation='softmax'))\n",
        "  model.compile(optimizer = 'adam', loss = 'sparse_categorical_crossentropy', metrics = ['accuracy'])\n",
        "  return model"
      ],
      "metadata": {
        "id": "cXUyo8k2epQD"
      },
      "execution_count": null,
      "outputs": []
    },
    {
      "cell_type": "code",
      "source": [
        "model = KerasClassifier(build_fn=build_clf)"
      ],
      "metadata": {
        "id": "SEeOu3Mie2bl"
      },
      "execution_count": null,
      "outputs": []
    },
    {
      "cell_type": "code",
      "source": [
        "params={'batch_size':[100], \n",
        "        'epochs':[2, 3, 4, 5],\n",
        "        'unit':[5,6],\n",
        "           \n",
        "        }\n",
        "gs=GridSearchCV(estimator=model, param_grid=params, cv=3)\n",
        "# now fit the dataset to the GridSearchCV object. \n",
        "gs = gs.fit(X_train, y_train)"
      ],
      "metadata": {
        "id": "mF7r4CYHfamu"
      },
      "execution_count": null,
      "outputs": []
    },
    {
      "cell_type": "code",
      "source": [
        "print(pd.DataFrame(gs.cv_results_))"
      ],
      "metadata": {
        "id": "EXOoe00qiS8v"
      },
      "execution_count": null,
      "outputs": []
    },
    {
      "cell_type": "code",
      "source": [
        "best_params=gs.best_params_\n",
        "accuracy=gs.best_score_\n",
        "print(\"best_params: \", best_params)\n",
        "print(\"accuracy: \", accuracy)"
      ],
      "metadata": {
        "colab": {
          "base_uri": "https://localhost:8080/"
        },
        "id": "px3gTovegN_Q",
        "outputId": "3d508453-982c-4a7e-eac5-8915418f37a3"
      },
      "execution_count": null,
      "outputs": [
        {
          "output_type": "stream",
          "name": "stdout",
          "text": [
            "best_params:  {'batch_size': 100, 'epochs': 4, 'unit': 6}\n",
            "accuracy:  0.7918363511562347\n"
          ]
        }
      ]
    }
  ]
}